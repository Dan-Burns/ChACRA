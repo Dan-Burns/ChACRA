{
 "cells": [
  {
   "cell_type": "code",
   "execution_count": 3,
   "metadata": {},
   "outputs": [],
   "source": [
    "import MDAnalysis as mda\n",
    "import numpy as np\n",
    "import pandas as pd\n",
    "import sys\n",
    "#sys.path.append('/Users/dburns/Library/CloudStorage/Box-Box/my_scripts')\n",
    "from ChACRA.ContactAnalysis.ContactFrequencies import *\n",
    "import os"
   ]
  },
  {
   "cell_type": "code",
   "execution_count": 4,
   "metadata": {},
   "outputs": [
    {
     "name": "stderr",
     "output_type": "stream",
     "text": [
      "Warning: importing 'simtk.openmm' is deprecated.  Import 'openmm' instead.\n"
     ]
    }
   ],
   "source": [
    "#u = mda.Universe('/Users/dburns/Library/CloudStorage/Box-Box/1_GROUP_data/Enzymes/atcase/from_pronto/1q95/1q95_minimized_nohoh.pdb')\n",
    "u = mda.Universe('../../../from_box/atcase/1q95_minimized_nohoh.pdb')\n",
    "protein = u.select_atoms('protein')\n",
    "u = mda.Merge(protein)"
   ]
  },
  {
   "cell_type": "code",
   "execution_count": 5,
   "metadata": {},
   "outputs": [],
   "source": [
    "universe = u.copy()\n",
    "residues = {seg.segid: seg.residues.resnames for seg in universe.segments}\n",
    "segids = list(residues.keys())\n",
    "# make a square matrix that will be filled with True values for identical subunits\n",
    "array = np.zeros((len(segids),len(segids)),dtype=np.bool_)\n",
    "# every subunit is identical with itself\n",
    "np.fill_diagonal(array,True)\n",
    "# work with it as a df\n",
    "identical_table = pd.DataFrame(array, columns=segids, index=segids)\n",
    "\n"
   ]
  },
  {
   "cell_type": "code",
   "execution_count": 11,
   "metadata": {},
   "outputs": [],
   "source": [
    "#contact_dir = '/Users/dburns/Library/CloudStorage/Box-Box/1_GROUP_data/Enzymes/atcase/from_nova/contacts/freqs'\n",
    "contact_dir = '../../../from_box/atcase/freqs'\n",
    "contact_files = [f'{contact_dir}/{file}' for file in os.listdir(contact_dir)]\n",
    "contact_files.sort()\n",
    "cont = make_contact_frequency_dictionary(contact_files)\n",
    "cont = ContactFrequencies(pd.DataFrame(cont))"
   ]
  },
  {
   "cell_type": "code",
   "execution_count": 6,
   "metadata": {},
   "outputs": [],
   "source": [
    "# Go through all pairwise combinations of subunits\n",
    "for combo in combinations(segids,2):\n",
    "    # not identical if lengths are different\n",
    "    if len(residues[combo[0]]) != len(residues[combo[1]]):\n",
    "         identical_table[combo[1]][combo[0]], identical_table[combo[0]][combo[1]] = False, False\n",
    "    else:\n",
    "        # catch anything that might have same number of residues but different sequences\n",
    "        bool = np.all(np.equal(residues[combo[0]],residues[combo[1]]))\n",
    "        # Enter True or False in both the upper tri and lower tri  \n",
    "        identical_table[combo[1]][combo[0]], identical_table[combo[0]][combo[1]] =  bool, bool\n",
    "\n",
    "# Only keep one representative row for each unique chain that gives the identical sets of subunits\n",
    "identical_table.drop_duplicates(inplace=True)\n",
    "\n",
    "identical_subunits = {}\n",
    "# Add the lists of identical subunits to the dictionary\n",
    "# You can deal with different sets of identical subunits in complex situations\\\n",
    "for i, segid in enumerate(identical_table.index):\n",
    "    subunits = identical_table.T[identical_table.loc[segid]==True].index\n",
    "    # if there is only one, it's just identical with itself\n",
    "    if len(subunits) >= 2:\n",
    "        identical_subunits[i] = list(subunits)"
   ]
  },
  {
   "cell_type": "code",
   "execution_count": 7,
   "metadata": {},
   "outputs": [
    {
     "data": {
      "text/html": [
       "<div>\n",
       "<style scoped>\n",
       "    .dataframe tbody tr th:only-of-type {\n",
       "        vertical-align: middle;\n",
       "    }\n",
       "\n",
       "    .dataframe tbody tr th {\n",
       "        vertical-align: top;\n",
       "    }\n",
       "\n",
       "    .dataframe thead th {\n",
       "        text-align: right;\n",
       "    }\n",
       "</style>\n",
       "<table border=\"1\" class=\"dataframe\">\n",
       "  <thead>\n",
       "    <tr style=\"text-align: right;\">\n",
       "      <th></th>\n",
       "      <th>A</th>\n",
       "      <th>B</th>\n",
       "      <th>C</th>\n",
       "      <th>D</th>\n",
       "      <th>E</th>\n",
       "      <th>F</th>\n",
       "      <th>G</th>\n",
       "      <th>H</th>\n",
       "      <th>I</th>\n",
       "      <th>J</th>\n",
       "      <th>K</th>\n",
       "      <th>L</th>\n",
       "    </tr>\n",
       "  </thead>\n",
       "  <tbody>\n",
       "    <tr>\n",
       "      <th>A</th>\n",
       "      <td>True</td>\n",
       "      <td>True</td>\n",
       "      <td>True</td>\n",
       "      <td>True</td>\n",
       "      <td>True</td>\n",
       "      <td>True</td>\n",
       "      <td>False</td>\n",
       "      <td>False</td>\n",
       "      <td>False</td>\n",
       "      <td>False</td>\n",
       "      <td>False</td>\n",
       "      <td>False</td>\n",
       "    </tr>\n",
       "    <tr>\n",
       "      <th>G</th>\n",
       "      <td>False</td>\n",
       "      <td>False</td>\n",
       "      <td>False</td>\n",
       "      <td>False</td>\n",
       "      <td>False</td>\n",
       "      <td>False</td>\n",
       "      <td>True</td>\n",
       "      <td>True</td>\n",
       "      <td>True</td>\n",
       "      <td>True</td>\n",
       "      <td>True</td>\n",
       "      <td>True</td>\n",
       "    </tr>\n",
       "  </tbody>\n",
       "</table>\n",
       "</div>"
      ],
      "text/plain": [
       "       A      B      C      D      E      F      G      H      I      J   \n",
       "A   True   True   True   True   True   True  False  False  False  False  \\\n",
       "G  False  False  False  False  False  False   True   True   True   True   \n",
       "\n",
       "       K      L  \n",
       "A  False  False  \n",
       "G   True   True  "
      ]
     },
     "execution_count": 7,
     "metadata": {},
     "output_type": "execute_result"
    }
   ],
   "source": [
    "identical_table"
   ]
  },
  {
   "cell_type": "code",
   "execution_count": 8,
   "metadata": {},
   "outputs": [
    {
     "data": {
      "text/plain": [
       "{0: ['A', 'B', 'C', 'D', 'E', 'F'], 1: ['G', 'H', 'I', 'J', 'K', 'L']}"
      ]
     },
     "execution_count": 8,
     "metadata": {},
     "output_type": "execute_result"
    }
   ],
   "source": [
    "identical_subunits"
   ]
  },
  {
   "cell_type": "code",
   "execution_count": 9,
   "metadata": {},
   "outputs": [],
   "source": [
    "combos = list(combinations(identical_subunits.keys(),2))"
   ]
  },
  {
   "cell_type": "code",
   "execution_count": 12,
   "metadata": {},
   "outputs": [],
   "source": [
    "df = cont.freqs\n",
    "non_identical_subunit_sets = {}\n",
    "combos = combinations(identical_subunits.keys(),2)\n",
    "for combo in combos:\n",
    "    regex1 = f\"[{'|'.join(identical_subunits[combo[0]])}]:[A-Z]+:[1-9]+-[{'|'.join(identical_subunits[combo[1]])}]:[A-Z]+:[1-9]+\"\n",
    "    regex2 = f\"[{'|'.join(identical_subunits[combo[1]])}]:[A-Z]+:[1-9]+-[{'|'.join(identical_subunits[combo[0]])}]:[A-Z]+:[1-9]+\"\n",
    "    regex = f\"{regex1}|{regex2}\"\n",
    "#this will have the identical_subunit key pairs and corresponding column names\n",
    "# you can create the regex using these keys and identical_subunits dictionary\n",
    "non_identical_subunit_sets[combo] = list(df.filter(regex=regex, axis=1).columns)"
   ]
  },
  {
   "cell_type": "code",
   "execution_count": 36,
   "metadata": {},
   "outputs": [
    {
     "data": {
      "text/plain": [
       "'[A|B|C|D|E|F]:[A-Z]+:[1-9]+-[G|H|I|J|K|L]:[A-Z]+:[1-9]+'"
      ]
     },
     "execution_count": 36,
     "metadata": {},
     "output_type": "execute_result"
    }
   ],
   "source": [
    "regex1"
   ]
  },
  {
   "cell_type": "code",
   "execution_count": 13,
   "metadata": {},
   "outputs": [],
   "source": [
    "from MDAnalysis.analysis.distances import distance_array\n",
    "# can make a table of the equivalent contacts...\n",
    "### NEED TO HAVE THE DISTANCES FOR ALL SUBUNIT KEYS\n",
    "sorted_distances = {}\n",
    "\n",
    "#for identical_subunits_key in identical_subunits\n",
    "# find distances between identical and non identical and for all non identical, choose the closest one to priority as the rep for those\n",
    "for key in identical_subunits:\n",
    "    chain_distances = {}\n",
    "    priority = identical_subunits[key][0]\n",
    "    sel1 = u.select_atoms(f'chainID {priority}')\n",
    "    for chain in identical_subunits[key][1:]:\n",
    "        sel2 = u.select_atoms(f'chainID {chain}')\n",
    "\n",
    "        min_dist = distance_array(sel1.atoms, sel2.atoms,).min()\n",
    "        chain_distances[(priority, chain)] = min_dist\n",
    "    sorted_distances[key]={k:v for k, v in sorted(chain_distances.items(), key=lambda x:x[1])}\n",
    "\n",
    "# then get mixed subunit distances\n",
    "# this should possibly go after determining the priority chain\n",
    "# but before determing the other identical subunit priority naming since it will find which of the \n",
    "# non identical subunits is closest....\n",
    "for combo in combinations(identical_subunits.keys(),2):\n",
    "    chain_distances = {}\n",
    "    priority = identical_subunits[combo[0]][0]\n",
    "    sel1 = u.select_atoms(f'chainID {priority}')\n",
    "    for chain in identical_subunits[combo[1]]:\n",
    "        sel2 = u.select_atoms(f'chainID {chain}')\n",
    "\n",
    "        min_dist = distance_array(sel1.atoms, sel2.atoms,).min()\n",
    "        chain_distances[(priority, chain)] = min_dist\n",
    "    sorted_distances[combo]={k:v for k, v in sorted(chain_distances.items(), key=lambda x:x[1])}\n",
    "\n",
    "# After determining the priority nameing scheme, contact distances can be checked to find the best partner subunit with allclose(2 decimals)\n",
    "# in this case - intra is going to be A-A\n",
    "# adjacent will be A-C, if it also occurs AB use all close to determine if it's equivalent \n",
    "\n"
   ]
  },
  {
   "cell_type": "code",
   "execution_count": 30,
   "metadata": {},
   "outputs": [
    {
     "data": {
      "text/plain": [
       "['A', 'B', 'C', 'D', 'E', 'F', 'G', 'H', 'I', 'J', 'K', 'L']"
      ]
     },
     "execution_count": 30,
     "metadata": {},
     "output_type": "execute_result"
    }
   ],
   "source": [
    "segids"
   ]
  },
  {
   "cell_type": "markdown",
   "metadata": {},
   "source": [
    "# calculate the distances between each chain and all others"
   ]
  },
  {
   "cell_type": "code",
   "execution_count": 14,
   "metadata": {},
   "outputs": [],
   "source": [
    "sorted_all_chain_dists = {}\n",
    "all_chain_dists = {chain:{} for chain in segids}\n",
    "for chain in segids:\n",
    "    sel1 = u.select_atoms(f'chainID {chain}')\n",
    "    for chain2 in segids:\n",
    "        if chain2 != chain:\n",
    "            sel2 = u.select_atoms(f'chainID {chain2}')\n",
    "            min_dist = distance_array(sel1.atoms, sel2.atoms,).min()\n",
    "            all_chain_dists[chain][chain2] = min_dist\n",
    "    sorted_all_chain_dists[chain]={k:v for k, v in sorted(all_chain_dists[chain].items(), key=lambda x:x[1])}"
   ]
  },
  {
   "cell_type": "code",
   "execution_count": 15,
   "metadata": {},
   "outputs": [
    {
     "data": {
      "text/plain": [
       "{'A': {'G': 1.6783015165014643,\n",
       "  'C': 1.7065504023539435,\n",
       "  'B': 1.7316963647164045,\n",
       "  'E': 2.276290121014368,\n",
       "  'H': 2.3374572559516813,\n",
       "  'K': 10.352570156109394,\n",
       "  'I': 11.368680308402194,\n",
       "  'D': 14.695149666859432,\n",
       "  'J': 19.089641017069628,\n",
       "  'F': 23.72274977485476,\n",
       "  'L': 27.828149816818694},\n",
       " 'B': {'C': 1.6813929744436025,\n",
       "  'H': 1.6994563762386845,\n",
       "  'A': 1.7316963647164045,\n",
       "  'F': 1.8194105875476971,\n",
       "  'I': 2.405174661796874,\n",
       "  'L': 10.596713522639728,\n",
       "  'G': 11.396500598235063,\n",
       "  'E': 12.988872906635818,\n",
       "  'K': 16.547568071963777,\n",
       "  'D': 24.546360514064247,\n",
       "  'J': 30.74457695856177},\n",
       " 'C': {'I': 1.649130675274525,\n",
       "  'B': 1.6813929744436025,\n",
       "  'A': 1.7065504023539435,\n",
       "  'D': 2.4535570955604586,\n",
       "  'G': 2.4838233865839077,\n",
       "  'J': 11.460028863512493,\n",
       "  'H': 11.803342818008126,\n",
       "  'F': 14.49427711966249,\n",
       "  'L': 19.50460708068936,\n",
       "  'E': 23.112452434865222,\n",
       "  'K': 28.91113139744162},\n",
       " 'D': {'J': 1.6731507547147908,\n",
       "  'F': 1.7251738858528087,\n",
       "  'E': 1.7337653050411017,\n",
       "  'L': 2.3691580636554317,\n",
       "  'C': 2.4535570955604586,\n",
       "  'I': 10.766954246886625,\n",
       "  'K': 11.214116759189318,\n",
       "  'A': 14.695149666859432,\n",
       "  'G': 19.970316446470544,\n",
       "  'B': 24.546360514064247,\n",
       "  'H': 29.294992269048027},\n",
       " 'E': {'K': 1.6191289540514586,\n",
       "  'F': 1.6997656953686828,\n",
       "  'D': 1.7337653050411017,\n",
       "  'A': 2.276290121014368,\n",
       "  'J': 2.6673633150264715,\n",
       "  'G': 11.39885762439303,\n",
       "  'L': 12.658349037755515,\n",
       "  'B': 12.988872906635818,\n",
       "  'H': 18.11731240166011,\n",
       "  'C': 23.112452434865222,\n",
       "  'I': 29.268393678954915},\n",
       " 'F': {'L': 1.6868845940431783,\n",
       "  'E': 1.6997656953686828,\n",
       "  'D': 1.7251738858528087,\n",
       "  'B': 1.8194105875476971,\n",
       "  'K': 2.539416945533425,\n",
       "  'H': 11.278661873099622,\n",
       "  'J': 12.173696860953113,\n",
       "  'C': 14.49427711966249,\n",
       "  'I': 16.762685420723876,\n",
       "  'A': 23.72274977485476,\n",
       "  'G': 32.02890115513436},\n",
       " 'G': {'A': 1.6783015165014643,\n",
       "  'J': 1.7411957335158068,\n",
       "  'C': 2.4838233865839077,\n",
       "  'B': 11.396500598235063,\n",
       "  'E': 11.39885762439303,\n",
       "  'D': 19.970316446470544,\n",
       "  'I': 27.48132477068823,\n",
       "  'H': 28.549628162117425,\n",
       "  'K': 30.40205853744378,\n",
       "  'F': 32.02890115513436,\n",
       "  'L': 44.52822064542099},\n",
       " 'H': {'B': 1.6994563762386845,\n",
       "  'K': 1.7850767693519007,\n",
       "  'A': 2.3374572559516813,\n",
       "  'F': 11.278661873099622,\n",
       "  'C': 11.803342818008126,\n",
       "  'E': 18.11731240166011,\n",
       "  'I': 27.931274885393638,\n",
       "  'G': 28.549628162117425,\n",
       "  'D': 29.294992269048027,\n",
       "  'L': 31.626291969776887,\n",
       "  'J': 44.73612662988867},\n",
       " 'I': {'C': 1.649130675274525,\n",
       "  'L': 1.8766633250333378,\n",
       "  'B': 2.405174661796874,\n",
       "  'D': 10.766954246886625,\n",
       "  'A': 11.368680308402194,\n",
       "  'F': 16.762685420723876,\n",
       "  'G': 27.48132477068823,\n",
       "  'H': 27.931274885393638,\n",
       "  'E': 29.268393678954915,\n",
       "  'J': 29.842615040757437,\n",
       "  'K': 42.95617996998844},\n",
       " 'J': {'D': 1.6731507547147908,\n",
       "  'G': 1.7411957335158068,\n",
       "  'E': 2.6673633150264715,\n",
       "  'C': 11.460028863512493,\n",
       "  'F': 12.173696860953113,\n",
       "  'A': 19.089641017069628,\n",
       "  'K': 27.726821844301746,\n",
       "  'L': 28.017225544614632,\n",
       "  'I': 29.842615040757437,\n",
       "  'B': 30.74457695856177,\n",
       "  'H': 44.73612662988867},\n",
       " 'K': {'E': 1.6191289540514586,\n",
       "  'H': 1.7850767693519007,\n",
       "  'F': 2.539416945533425,\n",
       "  'A': 10.352570156109394,\n",
       "  'D': 11.214116759189318,\n",
       "  'B': 16.547568071963777,\n",
       "  'J': 27.726821844301746,\n",
       "  'L': 28.75195515953024,\n",
       "  'C': 28.91113139744162,\n",
       "  'G': 30.40205853744378,\n",
       "  'I': 42.95617996998844},\n",
       " 'L': {'F': 1.6868845940431783,\n",
       "  'I': 1.8766633250333378,\n",
       "  'D': 2.3691580636554317,\n",
       "  'B': 10.596713522639728,\n",
       "  'E': 12.658349037755515,\n",
       "  'C': 19.50460708068936,\n",
       "  'A': 27.828149816818694,\n",
       "  'J': 28.017225544614632,\n",
       "  'K': 28.75195515953024,\n",
       "  'H': 31.626291969776887,\n",
       "  'G': 44.52822064542099}}"
      ]
     },
     "execution_count": 15,
     "metadata": {},
     "output_type": "execute_result"
    }
   ],
   "source": [
    "# can also use the df to identify which chain pairs have identical contact names\n",
    "# basically use the priority chain's contacts to compare the incoming contacts to\n",
    "sorted_all_chain_dists"
   ]
  },
  {
   "cell_type": "code",
   "execution_count": 16,
   "metadata": {},
   "outputs": [],
   "source": [
    "segids = set(u.residues.segids)\n",
    "# hold the coms for each protomer \n",
    "seg_sels = {seg: u.select_atoms(f'segid {seg}') for seg in set(u.residues.segids)} # if segid in subunits"
   ]
  },
  {
   "cell_type": "code",
   "execution_count": 6,
   "metadata": {},
   "outputs": [],
   "source": [
    "# access a subunit com\n",
    "from itertools import combinations, permutations\n",
    "triples = [[a,b,c] for a,b,c in permutations(segids, 3)]\n",
    "coms = {segid: seg_sels[segid].center_of_mass() for segid in segids}\n"
   ]
  },
  {
   "cell_type": "code",
   "execution_count": 7,
   "metadata": {},
   "outputs": [],
   "source": [
    "import numpy as np\n",
    "# triple selections without duplicating angle created by vertex and permutations of the 2 points\n",
    "trips = []\n",
    "for segid in segids:\n",
    "    trips.append([[ch1,segid,ch2] for ch1,ch2 in combinations([ch for ch in segids if ch != segid],2)])"
   ]
  },
  {
   "cell_type": "code",
   "execution_count": 8,
   "metadata": {},
   "outputs": [
    {
     "data": {
      "text/plain": [
       "[[['A', 'C', 'D'], ['A', 'C', 'B'], ['D', 'C', 'B']],\n",
       " [['C', 'A', 'D'], ['C', 'A', 'B'], ['D', 'A', 'B']],\n",
       " [['C', 'D', 'A'], ['C', 'D', 'B'], ['A', 'D', 'B']],\n",
       " [['C', 'B', 'A'], ['C', 'B', 'D'], ['A', 'B', 'D']]]"
      ]
     },
     "execution_count": 8,
     "metadata": {},
     "output_type": "execute_result"
    }
   ],
   "source": [
    "trips"
   ]
  },
  {
   "cell_type": "code",
   "execution_count": 9,
   "metadata": {},
   "outputs": [],
   "source": [
    "all_seg_sel_string = ''.join([f'segid {seg} or ' for seg in list(segids)[:-1]])\n",
    "all_seg_sel_string += f'segid {list(segids)[-1]}'\n",
    "all_com = u.select_atoms(all_seg_sel_string).center_of_mass()"
   ]
  },
  {
   "cell_type": "code",
   "execution_count": 10,
   "metadata": {},
   "outputs": [],
   "source": [
    "def get_angle(a,b,c):\n",
    "    ba = a - b\n",
    "    bc = c - b\n",
    "\n",
    "    cosine_angle = np.dot(ba, bc) / (np.linalg.norm(ba) * np.linalg.norm(bc))\n",
    "    angle = np.arccos(cosine_angle)\n",
    "    return angle"
   ]
  },
  {
   "cell_type": "code",
   "execution_count": 11,
   "metadata": {},
   "outputs": [],
   "source": [
    "opposing_subunits = []\n",
    "check = []\n",
    "for seg in segids:\n",
    "    if seg not in check:\n",
    "        for seg2 in [segid for segid in segids if segid != seg]:\n",
    "            if np.abs(180-np.rad2deg(get_angle(coms[seg],all_com,coms[seg2]))) <= 2:\n",
    "                opposing_subunits.append((seg,seg2))\n",
    "                check.append(seg)\n",
    "                break\n",
    "\n",
    "\n"
   ]
  },
  {
   "cell_type": "code",
   "execution_count": 12,
   "metadata": {},
   "outputs": [
    {
     "data": {
      "text/plain": [
       "[('C', 'B'), ('A', 'D'), ('D', 'A'), ('B', 'C')]"
      ]
     },
     "execution_count": 12,
     "metadata": {},
     "output_type": "execute_result"
    }
   ],
   "source": [
    "opposing_subunits"
   ]
  },
  {
   "cell_type": "code",
   "execution_count": 80,
   "metadata": {},
   "outputs": [
    {
     "data": {
      "text/plain": [
       "179.92590933219583"
      ]
     },
     "execution_count": 80,
     "metadata": {},
     "output_type": "execute_result"
    }
   ],
   "source": [
    "np.rad2deg(get_angle(coms['A'],all_com,coms['D']))"
   ]
  },
  {
   "cell_type": "markdown",
   "metadata": {},
   "source": [
    "### Use contact df to determine which chains actually make contact"
   ]
  },
  {
   "cell_type": "code",
   "execution_count": 13,
   "metadata": {},
   "outputs": [],
   "source": [
    "df = cont.freqs"
   ]
  },
  {
   "cell_type": "code",
   "execution_count": 14,
   "metadata": {},
   "outputs": [],
   "source": [
    "from ChACRA.ContactAnalysis.contact_functions import _parse_id"
   ]
  },
  {
   "cell_type": "code",
   "execution_count": 15,
   "metadata": {},
   "outputs": [],
   "source": [
    "partner_chains = {}\n",
    "\n",
    "for contact in df.columns:\n",
    "    data = _parse_id(contact)\n",
    "    if data['chaina'] not in partner_chains:\n",
    "        partner_chains[data['chaina']] = set(data['chainb'])\n",
    "    else:\n",
    "        partner_chains[data['chaina']].add(data['chainb'])\n",
    "    if data['chainb'] not in partner_chains:\n",
    "        partner_chains[data['chainb']] = set(data['chaina'])\n",
    "    else:\n",
    "        partner_chains[data['chainb']].add(data['chaina'])"
   ]
  },
  {
   "cell_type": "code",
   "execution_count": 16,
   "metadata": {},
   "outputs": [
    {
     "data": {
      "text/plain": [
       "{'B': {'A', 'B', 'C', 'E', 'F', 'H', 'I'},\n",
       " 'C': {'A', 'B', 'C', 'D', 'F', 'G', 'I', 'J'},\n",
       " 'D': {'C', 'D', 'E', 'F', 'I', 'J', 'L'},\n",
       " 'E': {'A', 'B', 'D', 'E', 'F', 'J', 'K'},\n",
       " 'A': {'A', 'B', 'C', 'E', 'G', 'H'},\n",
       " 'L': {'D', 'F', 'I', 'L'},\n",
       " 'J': {'C', 'D', 'E', 'G', 'J'},\n",
       " 'I': {'B', 'C', 'D', 'I', 'L'},\n",
       " 'G': {'A', 'C', 'G', 'J'},\n",
       " 'H': {'A', 'B', 'H', 'K'},\n",
       " 'F': {'B', 'C', 'D', 'E', 'F', 'K', 'L'},\n",
       " 'K': {'E', 'F', 'H', 'K'}}"
      ]
     },
     "execution_count": 16,
     "metadata": {},
     "output_type": "execute_result"
    }
   ],
   "source": [
    "partner_chains"
   ]
  },
  {
   "cell_type": "code",
   "execution_count": 17,
   "metadata": {},
   "outputs": [
    {
     "data": {
      "text/plain": [
       "{0: {('A', 'C'): 1.7065504023539435,\n",
       "  ('A', 'B'): 1.7316963647164045,\n",
       "  ('A', 'E'): 2.276290121014368,\n",
       "  ('A', 'D'): 14.695149666859432,\n",
       "  ('A', 'F'): 23.72274977485476},\n",
       " 1: {('G', 'J'): 1.7411957335158068,\n",
       "  ('G', 'I'): 27.48132477068823,\n",
       "  ('G', 'H'): 28.549628162117425,\n",
       "  ('G', 'K'): 30.40205853744378,\n",
       "  ('G', 'L'): 44.52822064542099},\n",
       " (0, 1): {('A', 'G'): 1.6783015165014643,\n",
       "  ('A', 'H'): 2.3374572559516813,\n",
       "  ('A', 'K'): 10.352570156109394,\n",
       "  ('A', 'I'): 11.368680308402194,\n",
       "  ('A', 'J'): 19.089641017069628,\n",
       "  ('A', 'L'): 27.828149816818694}}"
      ]
     },
     "execution_count": 17,
     "metadata": {},
     "output_type": "execute_result"
    }
   ],
   "source": [
    "sorted_distances\n",
    "# nee to make this data for each chain so you can identify which A partners correspond to the rare I and J partners for C for instance"
   ]
  },
  {
   "cell_type": "code",
   "execution_count": 18,
   "metadata": {},
   "outputs": [
    {
     "data": {
      "text/html": [
       "<div>\n",
       "<style scoped>\n",
       "    .dataframe tbody tr th:only-of-type {\n",
       "        vertical-align: middle;\n",
       "    }\n",
       "\n",
       "    .dataframe tbody tr th {\n",
       "        vertical-align: top;\n",
       "    }\n",
       "\n",
       "    .dataframe thead th {\n",
       "        text-align: right;\n",
       "    }\n",
       "</style>\n",
       "<table border=\"1\" class=\"dataframe\">\n",
       "  <thead>\n",
       "    <tr style=\"text-align: right;\">\n",
       "      <th></th>\n",
       "      <th>C:LYS:244-J:ILE:115</th>\n",
       "      <th>C:LYS:244-J:ASN:113</th>\n",
       "      <th>C:GLN:246-J:ASN:113</th>\n",
       "      <th>C:PRO:237-F:LYS:84</th>\n",
       "      <th>C:GLN:246-J:SER:112</th>\n",
       "      <th>C:SER:238-F:LYS:84</th>\n",
       "      <th>C:GLU:239-F:LYS:83</th>\n",
       "      <th>C:SER:238-F:LYS:83</th>\n",
       "      <th>C:TYR:240-F:LYS:83</th>\n",
       "    </tr>\n",
       "  </thead>\n",
       "  <tbody>\n",
       "    <tr>\n",
       "      <th>0</th>\n",
       "      <td>0.000</td>\n",
       "      <td>0.000</td>\n",
       "      <td>0.000</td>\n",
       "      <td>0.000</td>\n",
       "      <td>0.0</td>\n",
       "      <td>0.0</td>\n",
       "      <td>0.0</td>\n",
       "      <td>0.000</td>\n",
       "      <td>0.000</td>\n",
       "    </tr>\n",
       "    <tr>\n",
       "      <th>1</th>\n",
       "      <td>0.000</td>\n",
       "      <td>0.000</td>\n",
       "      <td>0.000</td>\n",
       "      <td>0.000</td>\n",
       "      <td>0.0</td>\n",
       "      <td>0.0</td>\n",
       "      <td>0.0</td>\n",
       "      <td>0.000</td>\n",
       "      <td>0.000</td>\n",
       "    </tr>\n",
       "    <tr>\n",
       "      <th>2</th>\n",
       "      <td>0.000</td>\n",
       "      <td>0.000</td>\n",
       "      <td>0.000</td>\n",
       "      <td>0.000</td>\n",
       "      <td>0.0</td>\n",
       "      <td>0.0</td>\n",
       "      <td>0.0</td>\n",
       "      <td>0.000</td>\n",
       "      <td>0.000</td>\n",
       "    </tr>\n",
       "    <tr>\n",
       "      <th>3</th>\n",
       "      <td>0.000</td>\n",
       "      <td>0.000</td>\n",
       "      <td>0.000</td>\n",
       "      <td>0.000</td>\n",
       "      <td>0.0</td>\n",
       "      <td>0.0</td>\n",
       "      <td>0.0</td>\n",
       "      <td>0.000</td>\n",
       "      <td>0.000</td>\n",
       "    </tr>\n",
       "    <tr>\n",
       "      <th>4</th>\n",
       "      <td>0.000</td>\n",
       "      <td>0.000</td>\n",
       "      <td>0.000</td>\n",
       "      <td>0.000</td>\n",
       "      <td>0.0</td>\n",
       "      <td>0.0</td>\n",
       "      <td>0.0</td>\n",
       "      <td>0.000</td>\n",
       "      <td>0.000</td>\n",
       "    </tr>\n",
       "    <tr>\n",
       "      <th>5</th>\n",
       "      <td>0.000</td>\n",
       "      <td>0.000</td>\n",
       "      <td>0.000</td>\n",
       "      <td>0.000</td>\n",
       "      <td>0.0</td>\n",
       "      <td>0.0</td>\n",
       "      <td>0.0</td>\n",
       "      <td>0.000</td>\n",
       "      <td>0.000</td>\n",
       "    </tr>\n",
       "    <tr>\n",
       "      <th>6</th>\n",
       "      <td>0.000</td>\n",
       "      <td>0.000</td>\n",
       "      <td>0.000</td>\n",
       "      <td>0.000</td>\n",
       "      <td>0.0</td>\n",
       "      <td>0.0</td>\n",
       "      <td>0.0</td>\n",
       "      <td>0.000</td>\n",
       "      <td>0.000</td>\n",
       "    </tr>\n",
       "    <tr>\n",
       "      <th>7</th>\n",
       "      <td>0.000</td>\n",
       "      <td>0.000</td>\n",
       "      <td>0.000</td>\n",
       "      <td>0.000</td>\n",
       "      <td>0.0</td>\n",
       "      <td>0.0</td>\n",
       "      <td>0.0</td>\n",
       "      <td>0.000</td>\n",
       "      <td>0.000</td>\n",
       "    </tr>\n",
       "    <tr>\n",
       "      <th>8</th>\n",
       "      <td>0.000</td>\n",
       "      <td>0.000</td>\n",
       "      <td>0.000</td>\n",
       "      <td>0.000</td>\n",
       "      <td>0.0</td>\n",
       "      <td>0.0</td>\n",
       "      <td>0.0</td>\n",
       "      <td>0.000</td>\n",
       "      <td>0.000</td>\n",
       "    </tr>\n",
       "    <tr>\n",
       "      <th>9</th>\n",
       "      <td>0.000</td>\n",
       "      <td>0.000</td>\n",
       "      <td>0.000</td>\n",
       "      <td>0.000</td>\n",
       "      <td>0.0</td>\n",
       "      <td>0.0</td>\n",
       "      <td>0.0</td>\n",
       "      <td>0.000</td>\n",
       "      <td>0.000</td>\n",
       "    </tr>\n",
       "    <tr>\n",
       "      <th>10</th>\n",
       "      <td>0.000</td>\n",
       "      <td>0.000</td>\n",
       "      <td>0.000</td>\n",
       "      <td>0.000</td>\n",
       "      <td>0.0</td>\n",
       "      <td>0.0</td>\n",
       "      <td>0.0</td>\n",
       "      <td>0.000</td>\n",
       "      <td>0.000</td>\n",
       "    </tr>\n",
       "    <tr>\n",
       "      <th>11</th>\n",
       "      <td>0.000</td>\n",
       "      <td>0.000</td>\n",
       "      <td>0.000</td>\n",
       "      <td>0.000</td>\n",
       "      <td>0.0</td>\n",
       "      <td>0.0</td>\n",
       "      <td>0.0</td>\n",
       "      <td>0.000</td>\n",
       "      <td>0.000</td>\n",
       "    </tr>\n",
       "    <tr>\n",
       "      <th>12</th>\n",
       "      <td>0.000</td>\n",
       "      <td>0.000</td>\n",
       "      <td>0.000</td>\n",
       "      <td>0.000</td>\n",
       "      <td>0.0</td>\n",
       "      <td>0.0</td>\n",
       "      <td>0.0</td>\n",
       "      <td>0.000</td>\n",
       "      <td>0.000</td>\n",
       "    </tr>\n",
       "    <tr>\n",
       "      <th>13</th>\n",
       "      <td>0.000</td>\n",
       "      <td>0.000</td>\n",
       "      <td>0.000</td>\n",
       "      <td>0.000</td>\n",
       "      <td>0.0</td>\n",
       "      <td>0.0</td>\n",
       "      <td>0.0</td>\n",
       "      <td>0.000</td>\n",
       "      <td>0.000</td>\n",
       "    </tr>\n",
       "    <tr>\n",
       "      <th>14</th>\n",
       "      <td>0.000</td>\n",
       "      <td>0.000</td>\n",
       "      <td>0.000</td>\n",
       "      <td>0.000</td>\n",
       "      <td>0.0</td>\n",
       "      <td>0.0</td>\n",
       "      <td>0.0</td>\n",
       "      <td>0.000</td>\n",
       "      <td>0.000</td>\n",
       "    </tr>\n",
       "    <tr>\n",
       "      <th>15</th>\n",
       "      <td>0.000</td>\n",
       "      <td>0.000</td>\n",
       "      <td>0.000</td>\n",
       "      <td>0.000</td>\n",
       "      <td>0.0</td>\n",
       "      <td>0.0</td>\n",
       "      <td>0.0</td>\n",
       "      <td>0.000</td>\n",
       "      <td>0.000</td>\n",
       "    </tr>\n",
       "    <tr>\n",
       "      <th>16</th>\n",
       "      <td>0.000</td>\n",
       "      <td>0.000</td>\n",
       "      <td>0.000</td>\n",
       "      <td>0.000</td>\n",
       "      <td>0.0</td>\n",
       "      <td>0.0</td>\n",
       "      <td>0.0</td>\n",
       "      <td>0.000</td>\n",
       "      <td>0.000</td>\n",
       "    </tr>\n",
       "    <tr>\n",
       "      <th>17</th>\n",
       "      <td>0.000</td>\n",
       "      <td>0.000</td>\n",
       "      <td>0.001</td>\n",
       "      <td>0.000</td>\n",
       "      <td>0.0</td>\n",
       "      <td>0.0</td>\n",
       "      <td>0.0</td>\n",
       "      <td>0.000</td>\n",
       "      <td>0.000</td>\n",
       "    </tr>\n",
       "    <tr>\n",
       "      <th>18</th>\n",
       "      <td>0.000</td>\n",
       "      <td>0.000</td>\n",
       "      <td>0.002</td>\n",
       "      <td>0.001</td>\n",
       "      <td>0.0</td>\n",
       "      <td>0.0</td>\n",
       "      <td>0.0</td>\n",
       "      <td>0.000</td>\n",
       "      <td>0.000</td>\n",
       "    </tr>\n",
       "    <tr>\n",
       "      <th>19</th>\n",
       "      <td>0.003</td>\n",
       "      <td>0.003</td>\n",
       "      <td>0.005</td>\n",
       "      <td>0.000</td>\n",
       "      <td>0.0</td>\n",
       "      <td>0.0</td>\n",
       "      <td>0.0</td>\n",
       "      <td>0.000</td>\n",
       "      <td>0.000</td>\n",
       "    </tr>\n",
       "    <tr>\n",
       "      <th>20</th>\n",
       "      <td>0.003</td>\n",
       "      <td>0.005</td>\n",
       "      <td>0.014</td>\n",
       "      <td>0.000</td>\n",
       "      <td>0.0</td>\n",
       "      <td>0.0</td>\n",
       "      <td>0.0</td>\n",
       "      <td>0.001</td>\n",
       "      <td>0.000</td>\n",
       "    </tr>\n",
       "    <tr>\n",
       "      <th>21</th>\n",
       "      <td>0.005</td>\n",
       "      <td>0.004</td>\n",
       "      <td>0.012</td>\n",
       "      <td>0.000</td>\n",
       "      <td>0.0</td>\n",
       "      <td>0.0</td>\n",
       "      <td>0.0</td>\n",
       "      <td>0.000</td>\n",
       "      <td>0.000</td>\n",
       "    </tr>\n",
       "    <tr>\n",
       "      <th>22</th>\n",
       "      <td>0.006</td>\n",
       "      <td>0.001</td>\n",
       "      <td>0.007</td>\n",
       "      <td>0.000</td>\n",
       "      <td>0.0</td>\n",
       "      <td>0.0</td>\n",
       "      <td>0.0</td>\n",
       "      <td>0.000</td>\n",
       "      <td>0.001</td>\n",
       "    </tr>\n",
       "    <tr>\n",
       "      <th>23</th>\n",
       "      <td>0.002</td>\n",
       "      <td>0.000</td>\n",
       "      <td>0.001</td>\n",
       "      <td>0.000</td>\n",
       "      <td>0.0</td>\n",
       "      <td>0.0</td>\n",
       "      <td>0.0</td>\n",
       "      <td>0.000</td>\n",
       "      <td>0.000</td>\n",
       "    </tr>\n",
       "    <tr>\n",
       "      <th>24</th>\n",
       "      <td>0.000</td>\n",
       "      <td>0.000</td>\n",
       "      <td>0.000</td>\n",
       "      <td>0.000</td>\n",
       "      <td>0.0</td>\n",
       "      <td>0.0</td>\n",
       "      <td>0.0</td>\n",
       "      <td>0.000</td>\n",
       "      <td>0.000</td>\n",
       "    </tr>\n",
       "    <tr>\n",
       "      <th>25</th>\n",
       "      <td>0.000</td>\n",
       "      <td>0.000</td>\n",
       "      <td>0.000</td>\n",
       "      <td>0.000</td>\n",
       "      <td>0.0</td>\n",
       "      <td>0.0</td>\n",
       "      <td>0.0</td>\n",
       "      <td>0.000</td>\n",
       "      <td>0.000</td>\n",
       "    </tr>\n",
       "    <tr>\n",
       "      <th>26</th>\n",
       "      <td>0.000</td>\n",
       "      <td>0.000</td>\n",
       "      <td>0.000</td>\n",
       "      <td>0.000</td>\n",
       "      <td>0.0</td>\n",
       "      <td>0.0</td>\n",
       "      <td>0.0</td>\n",
       "      <td>0.000</td>\n",
       "      <td>0.000</td>\n",
       "    </tr>\n",
       "    <tr>\n",
       "      <th>27</th>\n",
       "      <td>0.000</td>\n",
       "      <td>0.000</td>\n",
       "      <td>0.000</td>\n",
       "      <td>0.000</td>\n",
       "      <td>0.0</td>\n",
       "      <td>0.0</td>\n",
       "      <td>0.0</td>\n",
       "      <td>0.000</td>\n",
       "      <td>0.000</td>\n",
       "    </tr>\n",
       "    <tr>\n",
       "      <th>28</th>\n",
       "      <td>0.000</td>\n",
       "      <td>0.000</td>\n",
       "      <td>0.000</td>\n",
       "      <td>0.000</td>\n",
       "      <td>0.0</td>\n",
       "      <td>0.0</td>\n",
       "      <td>0.0</td>\n",
       "      <td>0.000</td>\n",
       "      <td>0.000</td>\n",
       "    </tr>\n",
       "    <tr>\n",
       "      <th>29</th>\n",
       "      <td>0.000</td>\n",
       "      <td>0.000</td>\n",
       "      <td>0.000</td>\n",
       "      <td>0.000</td>\n",
       "      <td>0.0</td>\n",
       "      <td>0.0</td>\n",
       "      <td>0.0</td>\n",
       "      <td>0.000</td>\n",
       "      <td>0.000</td>\n",
       "    </tr>\n",
       "    <tr>\n",
       "      <th>30</th>\n",
       "      <td>0.000</td>\n",
       "      <td>0.000</td>\n",
       "      <td>0.000</td>\n",
       "      <td>0.000</td>\n",
       "      <td>0.0</td>\n",
       "      <td>0.0</td>\n",
       "      <td>0.0</td>\n",
       "      <td>0.000</td>\n",
       "      <td>0.000</td>\n",
       "    </tr>\n",
       "    <tr>\n",
       "      <th>31</th>\n",
       "      <td>0.000</td>\n",
       "      <td>0.000</td>\n",
       "      <td>0.000</td>\n",
       "      <td>0.000</td>\n",
       "      <td>0.0</td>\n",
       "      <td>0.0</td>\n",
       "      <td>0.0</td>\n",
       "      <td>0.000</td>\n",
       "      <td>0.000</td>\n",
       "    </tr>\n",
       "  </tbody>\n",
       "</table>\n",
       "</div>"
      ],
      "text/plain": [
       "    C:LYS:244-J:ILE:115  C:LYS:244-J:ASN:113  C:GLN:246-J:ASN:113   \n",
       "0                 0.000                0.000                0.000  \\\n",
       "1                 0.000                0.000                0.000   \n",
       "2                 0.000                0.000                0.000   \n",
       "3                 0.000                0.000                0.000   \n",
       "4                 0.000                0.000                0.000   \n",
       "5                 0.000                0.000                0.000   \n",
       "6                 0.000                0.000                0.000   \n",
       "7                 0.000                0.000                0.000   \n",
       "8                 0.000                0.000                0.000   \n",
       "9                 0.000                0.000                0.000   \n",
       "10                0.000                0.000                0.000   \n",
       "11                0.000                0.000                0.000   \n",
       "12                0.000                0.000                0.000   \n",
       "13                0.000                0.000                0.000   \n",
       "14                0.000                0.000                0.000   \n",
       "15                0.000                0.000                0.000   \n",
       "16                0.000                0.000                0.000   \n",
       "17                0.000                0.000                0.001   \n",
       "18                0.000                0.000                0.002   \n",
       "19                0.003                0.003                0.005   \n",
       "20                0.003                0.005                0.014   \n",
       "21                0.005                0.004                0.012   \n",
       "22                0.006                0.001                0.007   \n",
       "23                0.002                0.000                0.001   \n",
       "24                0.000                0.000                0.000   \n",
       "25                0.000                0.000                0.000   \n",
       "26                0.000                0.000                0.000   \n",
       "27                0.000                0.000                0.000   \n",
       "28                0.000                0.000                0.000   \n",
       "29                0.000                0.000                0.000   \n",
       "30                0.000                0.000                0.000   \n",
       "31                0.000                0.000                0.000   \n",
       "\n",
       "    C:PRO:237-F:LYS:84  C:GLN:246-J:SER:112  C:SER:238-F:LYS:84   \n",
       "0                0.000                  0.0                 0.0  \\\n",
       "1                0.000                  0.0                 0.0   \n",
       "2                0.000                  0.0                 0.0   \n",
       "3                0.000                  0.0                 0.0   \n",
       "4                0.000                  0.0                 0.0   \n",
       "5                0.000                  0.0                 0.0   \n",
       "6                0.000                  0.0                 0.0   \n",
       "7                0.000                  0.0                 0.0   \n",
       "8                0.000                  0.0                 0.0   \n",
       "9                0.000                  0.0                 0.0   \n",
       "10               0.000                  0.0                 0.0   \n",
       "11               0.000                  0.0                 0.0   \n",
       "12               0.000                  0.0                 0.0   \n",
       "13               0.000                  0.0                 0.0   \n",
       "14               0.000                  0.0                 0.0   \n",
       "15               0.000                  0.0                 0.0   \n",
       "16               0.000                  0.0                 0.0   \n",
       "17               0.000                  0.0                 0.0   \n",
       "18               0.001                  0.0                 0.0   \n",
       "19               0.000                  0.0                 0.0   \n",
       "20               0.000                  0.0                 0.0   \n",
       "21               0.000                  0.0                 0.0   \n",
       "22               0.000                  0.0                 0.0   \n",
       "23               0.000                  0.0                 0.0   \n",
       "24               0.000                  0.0                 0.0   \n",
       "25               0.000                  0.0                 0.0   \n",
       "26               0.000                  0.0                 0.0   \n",
       "27               0.000                  0.0                 0.0   \n",
       "28               0.000                  0.0                 0.0   \n",
       "29               0.000                  0.0                 0.0   \n",
       "30               0.000                  0.0                 0.0   \n",
       "31               0.000                  0.0                 0.0   \n",
       "\n",
       "    C:GLU:239-F:LYS:83  C:SER:238-F:LYS:83  C:TYR:240-F:LYS:83  \n",
       "0                  0.0               0.000               0.000  \n",
       "1                  0.0               0.000               0.000  \n",
       "2                  0.0               0.000               0.000  \n",
       "3                  0.0               0.000               0.000  \n",
       "4                  0.0               0.000               0.000  \n",
       "5                  0.0               0.000               0.000  \n",
       "6                  0.0               0.000               0.000  \n",
       "7                  0.0               0.000               0.000  \n",
       "8                  0.0               0.000               0.000  \n",
       "9                  0.0               0.000               0.000  \n",
       "10                 0.0               0.000               0.000  \n",
       "11                 0.0               0.000               0.000  \n",
       "12                 0.0               0.000               0.000  \n",
       "13                 0.0               0.000               0.000  \n",
       "14                 0.0               0.000               0.000  \n",
       "15                 0.0               0.000               0.000  \n",
       "16                 0.0               0.000               0.000  \n",
       "17                 0.0               0.000               0.000  \n",
       "18                 0.0               0.000               0.000  \n",
       "19                 0.0               0.000               0.000  \n",
       "20                 0.0               0.001               0.000  \n",
       "21                 0.0               0.000               0.000  \n",
       "22                 0.0               0.000               0.001  \n",
       "23                 0.0               0.000               0.000  \n",
       "24                 0.0               0.000               0.000  \n",
       "25                 0.0               0.000               0.000  \n",
       "26                 0.0               0.000               0.000  \n",
       "27                 0.0               0.000               0.000  \n",
       "28                 0.0               0.000               0.000  \n",
       "29                 0.0               0.000               0.000  \n",
       "30                 0.0               0.000               0.000  \n",
       "31                 0.0               0.000               0.000  "
      ]
     },
     "execution_count": 18,
     "metadata": {},
     "output_type": "execute_result"
    }
   ],
   "source": [
    "cols = []\n",
    "for contact in df.columns:\n",
    "    data = _parse_id(contact)\n",
    "    if 'C' in data.values() and ('F' in data.values() or \"J\" in data.values()):\n",
    "        cols.append(contact)\n",
    "df[cols]\n"
   ]
  },
  {
   "cell_type": "code",
   "execution_count": 19,
   "metadata": {},
   "outputs": [
    {
     "data": {
      "text/plain": [
       "{0: {('A', 'C'): 1.7065504023539435,\n",
       "  ('A', 'B'): 1.7316963647164045,\n",
       "  ('A', 'E'): 2.276290121014368,\n",
       "  ('A', 'D'): 14.695149666859432,\n",
       "  ('A', 'F'): 23.72274977485476},\n",
       " 1: {('G', 'J'): 1.7411957335158068,\n",
       "  ('G', 'I'): 27.48132477068823,\n",
       "  ('G', 'H'): 28.549628162117425,\n",
       "  ('G', 'K'): 30.40205853744378,\n",
       "  ('G', 'L'): 44.52822064542099},\n",
       " (0, 1): {('A', 'G'): 1.6783015165014643,\n",
       "  ('A', 'H'): 2.3374572559516813,\n",
       "  ('A', 'K'): 10.352570156109394,\n",
       "  ('A', 'I'): 11.368680308402194,\n",
       "  ('A', 'J'): 19.089641017069628,\n",
       "  ('A', 'L'): 27.828149816818694}}"
      ]
     },
     "execution_count": 19,
     "metadata": {},
     "output_type": "execute_result"
    }
   ],
   "source": [
    "# use the all_chain_distance dictionary to identify the appropriate priority nameing when a non-priority chain has an unseen contact\n",
    "# if a priority naming scheme is\n",
    "#  not available after the regex filter gets all of the duplicate contacts, use the all_chain_distance dict to find the correct way to depict it\n",
    "# this might involve doing a distance comparison for a contact between AB versus AC working down through the sorted_distances and returning\n",
    "# the chain that corresponds to the minimum contact distance measurement\n",
    "# this could break in a channel pore situation where neighboring and opposing are almost the same\n",
    "\n",
    "# if a priority name is in the regex filtered stuff, then just use that as the template name\n",
    "# if the priority name isn't in there, then you have to determine the proper partner\n",
    "# you do this by finding which group of identical subunits each chain in the pair is from\n",
    "# and then making the appropriate combination.\n",
    "sorted_distances "
   ]
  },
  {
   "cell_type": "code",
   "execution_count": null,
   "metadata": {},
   "outputs": [],
   "source": [
    "'C:PRO:237-F:LYS:84'"
   ]
  },
  {
   "cell_type": "code",
   "execution_count": 50,
   "metadata": {},
   "outputs": [],
   "source": [
    "resids = _parse_id('C:GLN:146-C:LEU:152')\n",
    "regex1 = f\"[A-Z1-9]+:{resids['resna']}:{resids['resida']}(?!\\d)-[A-Z1-9]+:{resids['resnb']}:{resids['residb']}(?!\\d)\"\n",
    "regex2 = f\"[A-Z1-9]+:{resids['resnb']}:{resids['residb']}(?!\\d)-[A-Z1-9]+:{resids['resna']}:{resids['resida']}(?!\\d)\"\n",
    "regex = f\"{regex1}|{regex2}\"\n",
    "to_average = list(df.filter(regex=regex, axis=1).columns)"
   ]
  },
  {
   "cell_type": "code",
   "execution_count": 51,
   "metadata": {},
   "outputs": [
    {
     "data": {
      "text/plain": [
       "['C:GLN:146-C:LEU:152',\n",
       " 'E:GLN:146-E:LEU:152',\n",
       " 'A:GLN:146-A:LEU:152',\n",
       " 'B:GLN:146-B:LEU:152',\n",
       " 'D:GLN:146-D:LEU:152',\n",
       " 'F:GLN:146-F:LEU:152']"
      ]
     },
     "execution_count": 51,
     "metadata": {},
     "output_type": "execute_result"
    }
   ],
   "source": [
    "to_average"
   ]
  },
  {
   "cell_type": "code",
   "execution_count": 20,
   "metadata": {},
   "outputs": [],
   "source": [
    "def get_chain_group(chain, identical_subunits):\n",
    "    '''\n",
    "    Return the identical subunit group that the subunit is in\n",
    "    '''\n",
    "    for group in identical_subunits:\n",
    "        if chain in identical_subunits[group]:\n",
    "            return group\n",
    "        \n",
    "def get_chain_tuples(group1,group2):\n",
    "    if group1 != group2:\n",
    "        return tuple(sorted((group1,group2)))\n",
    "    else:\n",
    "        return group1\n",
    "\n",
    "def check_distances(group, contact, u, sorted_distances):\n",
    "\n",
    "    dists = {}\n",
    "    chain_pairs = list(sorted_distances[group].keys())\n",
    "    resids = _parse_id(contact)\n",
    "    for pair in chain_pairs:\n",
    "        atoma = u.select_atoms(f'chainid {pair[0]} and resnum \\\n",
    "                            {resids[\"resida\"]} and name CA').positions\n",
    "        atomb = u.select_atoms(f'chainid {pair[1]} and resnum \\\n",
    "                            {resids[\"residb\"]} and name CA').positions\n",
    "        dists[f'{pair[0]}:{resids[\"resna\"]}:{resids[\"resida\"]}-{pair[1]}:{resids[\"resnb\"]}:{resids[\"residb\"]}'] = np.linalg.norm((atoma-atomb)) \n",
    "    return {k:v for k, v in sorted(dists.items(), key=lambda x:x[1])}\n",
    "    #list(distances.keys())[0]\n",
    "\n",
    "# def get_possible_priority_name_combos(group1, group2, priority_ids, identical_subunits):\n",
    "#     if priority_ids[0] in identical_subunits[group1] and priority_ids[0] in identical_subunits[group2]:\n",
    "#         return [priority_ids[0], priority_ids[0]]\n",
    "#     elif priority_ids[1] in identical_subunits[group1] and priority_ids[1] in identical_subunits[group2]:\n",
    "#         return [priority_ids[0], priority_ids[0]]\n",
    "#     elif group1 != group2:\n",
    "\n",
    "\n",
    "\n"
   ]
  },
  {
   "cell_type": "code",
   "execution_count": 21,
   "metadata": {},
   "outputs": [],
   "source": [
    "chain1 = 'C'\n",
    "chain2 = 'F'\n",
    "group1 = get_chain_group(chain1, identical_subunits)\n",
    "group2 = get_chain_group(chain2, identical_subunits)\n",
    "key = get_chain_tuples(group1, group2)\n",
    "distances = check_distances(key, 'C:PRO:237-F:LYS:84', u, sorted_distances)"
   ]
  },
  {
   "cell_type": "code",
   "execution_count": 25,
   "metadata": {},
   "outputs": [],
   "source": [
    "all_seg_sel_string = ''.join([f'segid {seg} or ' for seg in list(segids)[:-1]])\n",
    "all_seg_sel_string += f'segid {list(segids)[-1]}'\n",
    "all_com = u.select_atoms(all_seg_sel_string).center_of_mass()\n",
    "\n",
    "chain1 = 'C'\n",
    "chain2 = 'F'\n",
    "group1 = get_chain_group(chain1, identical_subunits)\n",
    "group2 = get_chain_group(chain2, identical_subunits)\n",
    "key = get_chain_tuples(group1, group2)\n",
    "distances = check_distances(key, 'C:PRO:237-F:LYS:84', u, sorted_distances)"
   ]
  },
  {
   "cell_type": "code",
   "execution_count": 44,
   "metadata": {},
   "outputs": [
    {
     "data": {
      "text/plain": [
       "49.203095605716605"
      ]
     },
     "execution_count": 44,
     "metadata": {},
     "output_type": "execute_result"
    }
   ],
   "source": [
    "a = u.select_atoms('chainID C and resnum 237 and name CA').positions[0]\n",
    "b = u.select_atoms('chainID F and resnum 84 and name CA').positions[0]\n",
    "np.rad2deg(get_angle(a,all_com,b))"
   ]
  },
  {
   "cell_type": "code",
   "execution_count": 45,
   "metadata": {},
   "outputs": [
    {
     "data": {
      "text/plain": [
       "48.5597753102801"
      ]
     },
     "execution_count": 45,
     "metadata": {},
     "output_type": "execute_result"
    }
   ],
   "source": [
    "a = u.select_atoms('chainID C and resnum 237 and name CA').positions[0]\n",
    "b = u.select_atoms('chainID A and resnum 84 and name CA').positions[0]\n",
    "np.rad2deg(get_angle(a,all_com,b))"
   ]
  },
  {
   "cell_type": "code",
   "execution_count": 43,
   "metadata": {},
   "outputs": [
    {
     "data": {
      "text/plain": [
       "18.497358"
      ]
     },
     "execution_count": 43,
     "metadata": {},
     "output_type": "execute_result"
    }
   ],
   "source": [
    "# check template contact distance and filter out the regex filter using this\n",
    "# can use the condition to do this when the number of contacts filtered out with regex is greater than the length of identical subunits\n",
    "\n",
    "atoma = u.select_atoms(f'chainID C and resnum 237 and name CA').positions\n",
    "atomb = u.select_atoms(f'chainID F and resnum 84 and name CA').positions\n",
    "np.linalg.norm((atoma-atomb))"
   ]
  },
  {
   "cell_type": "code",
   "execution_count": null,
   "metadata": {},
   "outputs": [],
   "source": []
  },
  {
   "cell_type": "code",
   "execution_count": 53,
   "metadata": {},
   "outputs": [],
   "source": [
    "def check_angles(contacts, u, com_selection='protein'):\n",
    "    '''\n",
    "    calculate angles between contacting residues using a structure's center of mass as the vertex.\n",
    "\n",
    "    contacts : list\n",
    "            The contacts to retrieve angles for.\n",
    "    \n",
    "    u : MDA.Universe\n",
    "            The universe containing the crystal structure that was used for generating the contact data.\n",
    "\n",
    "    '''\n",
    "    angles = {}\n",
    "    com = u.select_atoms(com_selection).center_of_mass()\n",
    "    for contact in contacts:\n",
    "        resids = _parse_id(contact)\n",
    "        a = u.select_atoms(f\"chainid {resids['chaina']} and resnum \\\n",
    "                            {resids['resida']} and name CA\").positions[0]\n",
    "        c = u.select_atoms(f\"chainid {resids['chainb']} and resnum \\\n",
    "                                {resids['residb']} and name CA\").positions[0]\n",
    "        angles[contact] = np.rad2deg(get_angle(a,com,c))\n",
    "    return angles\n",
    "\n",
    "\n",
    "\n"
   ]
  },
  {
   "cell_type": "code",
   "execution_count": 63,
   "metadata": {},
   "outputs": [],
   "source": [
    "angles = check_angles(to_average,u)\n"
   ]
  },
  {
   "cell_type": "code",
   "execution_count": 64,
   "metadata": {},
   "outputs": [
    {
     "data": {
      "text/plain": [
       "['C:GLN:146-C:LEU:152',\n",
       " 'E:GLN:146-E:LEU:152',\n",
       " 'A:GLN:146-A:LEU:152',\n",
       " 'B:GLN:146-B:LEU:152',\n",
       " 'D:GLN:146-D:LEU:152',\n",
       " 'F:GLN:146-F:LEU:152']"
      ]
     },
     "execution_count": 64,
     "metadata": {},
     "output_type": "execute_result"
    }
   ],
   "source": [
    "to_average\n"
   ]
  },
  {
   "cell_type": "code",
   "execution_count": 68,
   "metadata": {},
   "outputs": [],
   "source": [
    "def find_non_matching_angles(reference_contact, angles, cutoff=1):\n",
    "    '''\n",
    "    Return a list of contacts whose angles don't match the reference contact\n",
    "\n",
    "    reference_contact : string\n",
    "        The contact name whose angle will be used for comparison with the other angles.\n",
    "\n",
    "    angles : dict\n",
    "        The dictionary of contacts and corresponding angles \n",
    "\n",
    "    cutoff : float or int\n",
    "        The maximum difference between reference_contact's angle and the comparison angle to be considered the same.\n",
    "        Contacts that differ in angle above this value will be returned in the list.\n",
    "\n",
    "    '''\n",
    "    non_matching_contacts = []\n",
    "\n",
    "    for contact in angles:\n",
    "        if np.abs(angles[reference_contact]-angles[contact]) > cutoff:\n",
    "            non_matching_contacts.append(contact)\n",
    "\n",
    "    return non_matching_contacts"
   ]
  },
  {
   "cell_type": "markdown",
   "metadata": {},
   "source": [
    "# New Averaging Loop"
   ]
  },
  {
   "cell_type": "code",
   "execution_count": 69,
   "metadata": {},
   "outputs": [
    {
     "data": {
      "text/plain": [
       "{'A': {'G': 1.6783015165014643,\n",
       "  'C': 1.7065504023539435,\n",
       "  'B': 1.7316963647164045,\n",
       "  'E': 2.276290121014368,\n",
       "  'H': 2.3374572559516813,\n",
       "  'K': 10.352570156109394,\n",
       "  'I': 11.368680308402194,\n",
       "  'D': 14.695149666859432,\n",
       "  'J': 19.089641017069628,\n",
       "  'F': 23.72274977485476,\n",
       "  'L': 27.828149816818694},\n",
       " 'B': {'C': 1.6813929744436025,\n",
       "  'H': 1.6994563762386845,\n",
       "  'A': 1.7316963647164045,\n",
       "  'F': 1.8194105875476971,\n",
       "  'I': 2.405174661796874,\n",
       "  'L': 10.596713522639728,\n",
       "  'G': 11.396500598235063,\n",
       "  'E': 12.988872906635818,\n",
       "  'K': 16.547568071963777,\n",
       "  'D': 24.546360514064247,\n",
       "  'J': 30.74457695856177},\n",
       " 'C': {'I': 1.649130675274525,\n",
       "  'B': 1.6813929744436025,\n",
       "  'A': 1.7065504023539435,\n",
       "  'D': 2.4535570955604586,\n",
       "  'G': 2.4838233865839077,\n",
       "  'J': 11.460028863512493,\n",
       "  'H': 11.803342818008126,\n",
       "  'F': 14.49427711966249,\n",
       "  'L': 19.50460708068936,\n",
       "  'E': 23.112452434865222,\n",
       "  'K': 28.91113139744162},\n",
       " 'D': {'J': 1.6731507547147908,\n",
       "  'F': 1.7251738858528087,\n",
       "  'E': 1.7337653050411017,\n",
       "  'L': 2.3691580636554317,\n",
       "  'C': 2.4535570955604586,\n",
       "  'I': 10.766954246886625,\n",
       "  'K': 11.214116759189318,\n",
       "  'A': 14.695149666859432,\n",
       "  'G': 19.970316446470544,\n",
       "  'B': 24.546360514064247,\n",
       "  'H': 29.294992269048027},\n",
       " 'E': {'K': 1.6191289540514586,\n",
       "  'F': 1.6997656953686828,\n",
       "  'D': 1.7337653050411017,\n",
       "  'A': 2.276290121014368,\n",
       "  'J': 2.6673633150264715,\n",
       "  'G': 11.39885762439303,\n",
       "  'L': 12.658349037755515,\n",
       "  'B': 12.988872906635818,\n",
       "  'H': 18.11731240166011,\n",
       "  'C': 23.112452434865222,\n",
       "  'I': 29.268393678954915},\n",
       " 'F': {'L': 1.6868845940431783,\n",
       "  'E': 1.6997656953686828,\n",
       "  'D': 1.7251738858528087,\n",
       "  'B': 1.8194105875476971,\n",
       "  'K': 2.539416945533425,\n",
       "  'H': 11.278661873099622,\n",
       "  'J': 12.173696860953113,\n",
       "  'C': 14.49427711966249,\n",
       "  'I': 16.762685420723876,\n",
       "  'A': 23.72274977485476,\n",
       "  'G': 32.02890115513436},\n",
       " 'G': {'A': 1.6783015165014643,\n",
       "  'J': 1.7411957335158068,\n",
       "  'C': 2.4838233865839077,\n",
       "  'B': 11.396500598235063,\n",
       "  'E': 11.39885762439303,\n",
       "  'D': 19.970316446470544,\n",
       "  'I': 27.48132477068823,\n",
       "  'H': 28.549628162117425,\n",
       "  'K': 30.40205853744378,\n",
       "  'F': 32.02890115513436,\n",
       "  'L': 44.52822064542099},\n",
       " 'H': {'B': 1.6994563762386845,\n",
       "  'K': 1.7850767693519007,\n",
       "  'A': 2.3374572559516813,\n",
       "  'F': 11.278661873099622,\n",
       "  'C': 11.803342818008126,\n",
       "  'E': 18.11731240166011,\n",
       "  'I': 27.931274885393638,\n",
       "  'G': 28.549628162117425,\n",
       "  'D': 29.294992269048027,\n",
       "  'L': 31.626291969776887,\n",
       "  'J': 44.73612662988867},\n",
       " 'I': {'C': 1.649130675274525,\n",
       "  'L': 1.8766633250333378,\n",
       "  'B': 2.405174661796874,\n",
       "  'D': 10.766954246886625,\n",
       "  'A': 11.368680308402194,\n",
       "  'F': 16.762685420723876,\n",
       "  'G': 27.48132477068823,\n",
       "  'H': 27.931274885393638,\n",
       "  'E': 29.268393678954915,\n",
       "  'J': 29.842615040757437,\n",
       "  'K': 42.95617996998844},\n",
       " 'J': {'D': 1.6731507547147908,\n",
       "  'G': 1.7411957335158068,\n",
       "  'E': 2.6673633150264715,\n",
       "  'C': 11.460028863512493,\n",
       "  'F': 12.173696860953113,\n",
       "  'A': 19.089641017069628,\n",
       "  'K': 27.726821844301746,\n",
       "  'L': 28.017225544614632,\n",
       "  'I': 29.842615040757437,\n",
       "  'B': 30.74457695856177,\n",
       "  'H': 44.73612662988867},\n",
       " 'K': {'E': 1.6191289540514586,\n",
       "  'H': 1.7850767693519007,\n",
       "  'F': 2.539416945533425,\n",
       "  'A': 10.352570156109394,\n",
       "  'D': 11.214116759189318,\n",
       "  'B': 16.547568071963777,\n",
       "  'J': 27.726821844301746,\n",
       "  'L': 28.75195515953024,\n",
       "  'C': 28.91113139744162,\n",
       "  'G': 30.40205853744378,\n",
       "  'I': 42.95617996998844},\n",
       " 'L': {'F': 1.6868845940431783,\n",
       "  'I': 1.8766633250333378,\n",
       "  'D': 2.3691580636554317,\n",
       "  'B': 10.596713522639728,\n",
       "  'E': 12.658349037755515,\n",
       "  'C': 19.50460708068936,\n",
       "  'A': 27.828149816818694,\n",
       "  'J': 28.017225544614632,\n",
       "  'K': 28.75195515953024,\n",
       "  'H': 31.626291969776887,\n",
       "  'G': 44.52822064542099}}"
      ]
     },
     "execution_count": 69,
     "metadata": {},
     "output_type": "execute_result"
    }
   ],
   "source": [
    "sorted_all_chain_dists"
   ]
  },
  {
   "cell_type": "code",
   "execution_count": 91,
   "metadata": {},
   "outputs": [
    {
     "data": {
      "text/plain": [
       "8.40284"
      ]
     },
     "execution_count": 91,
     "metadata": {},
     "output_type": "execute_result"
    }
   ],
   "source": [
    "\n"
   ]
  },
  {
   "cell_type": "code",
   "execution_count": 74,
   "metadata": {},
   "outputs": [
    {
     "data": {
      "text/plain": [
       "{0: {('A', 'C'): 1.7065504023539435,\n",
       "  ('A', 'B'): 1.7316963647164045,\n",
       "  ('A', 'E'): 2.276290121014368,\n",
       "  ('A', 'D'): 14.695149666859432,\n",
       "  ('A', 'F'): 23.72274977485476},\n",
       " 1: {('G', 'J'): 1.7411957335158068,\n",
       "  ('G', 'I'): 27.48132477068823,\n",
       "  ('G', 'H'): 28.549628162117425,\n",
       "  ('G', 'K'): 30.40205853744378,\n",
       "  ('G', 'L'): 44.52822064542099},\n",
       " (0, 1): {('A', 'G'): 1.6783015165014643,\n",
       "  ('A', 'H'): 2.3374572559516813,\n",
       "  ('A', 'K'): 10.352570156109394,\n",
       "  ('A', 'I'): 11.368680308402194,\n",
       "  ('A', 'J'): 19.089641017069628,\n",
       "  ('A', 'L'): 27.828149816818694}}"
      ]
     },
     "execution_count": 74,
     "metadata": {},
     "output_type": "execute_result"
    }
   ],
   "source": [
    "get_chain_distances(identical_subunits,u)"
   ]
  },
  {
   "cell_type": "code",
   "execution_count": 95,
   "metadata": {},
   "outputs": [],
   "source": [
    "def establish_priority_naming(identical_subunits, u):\n",
    "    segids = [j for i in identical_subunits.values() for j in i]\n",
    "    all_chain_dists = []\n",
    "    for subunit_set, subunits in identical_subunits.items():\n",
    "        priority1 = subunits[0]\n",
    "        \n",
    "\n",
    "def establish_equivalent_chain_interactions(seg_combo, identical_subunits, u):\n",
    "    '''\n",
    "    Use the closest residue pairs to determine equivalent orientations.\n",
    "    seg_combo : tuple\n",
    "        two segid/ chains that you want to identify equivalent interactions for for the rest of the chains\n",
    "        i.e. ('A','B')\n",
    "\n",
    "    identical_subunits : dictionary\n",
    "        The dictionary containing integer keys and lists of identical chains\n",
    "    '''\n",
    "    # get the indices of the atoms from each chain\n",
    "    A = np.where(u.atoms.segids == f'{seg_combo[0]}')[0]\n",
    "    B = np.where(u.atoms.segids == f'{seg_combo[1]}')[0]\n",
    "    # calculate all of the distances beteen the atoms from each chain\n",
    "    da = distance_array(u.atoms[A], u.atoms[B])\n",
    "    # find the index of the minimum distance value\n",
    "    Amin, Bmin = np.where(da == da.min())\n",
    "    # get the residue id and atom name for the closest distance atoms\n",
    "    resa, atoma = u.atoms[A][Amin[0]].resid, u.atoms[A][Amin[0]].name\n",
    "    resb, atomb= u.atoms[B][Bmin[0]].resid, u.atoms[B][Bmin[0]].name\n",
    "    # this identifies A's relationship to B.  Now you can establish this same relationship by going through all the other combos\n",
    "    for key, seg_list in identical_subunits.items():\n",
    "        if seg_combo[0] in seg_list and seg_combo[1] in seg_list:\n",
    "            A_group, B_group = key, key\n",
    "        elif seg_combo[0] in seg_list and seg_combo[1] not in seg_list:\n",
    "            A_group = key\n",
    "        elif seg_combo[1] in seg_list and seg_combo[0] not in seg_list:\n",
    "            B_group = key\n",
    "    relationships = []\n",
    "    for seg1 in identical_subunits[A_group]:\n",
    "        distances = {}\n",
    "        for seg2 in identical_subunits[B_group]:\n",
    "            if seg1 != seg2:\n",
    "                test_chain_1 = 'B'  # set this as the next identical chain\n",
    "                test_chain_2 = 'C'  # test against all others of the identical chain type and take min to determine the equivalent relationship of A to B\n",
    "                distances[(seg1,seg2)] = np.linalg.norm(u.select_atoms(f'chainID {seg1} and resnum {resa} and name {atoma}').positions - \n",
    "                            u.select_atoms(f'chainID {seg2} and resnum {resb} and name {atomb}').positions)\n",
    "        relationships.append(min(distances, key=distances.get))\n",
    "    return relationships\n",
    "        "
   ]
  },
  {
   "cell_type": "code",
   "execution_count": 96,
   "metadata": {},
   "outputs": [
    {
     "data": {
      "text/plain": [
       "[('A', 'B'), ('B', 'C'), ('C', 'A'), ('D', 'F'), ('E', 'D'), ('F', 'E')]"
      ]
     },
     "execution_count": 96,
     "metadata": {},
     "output_type": "execute_result"
    }
   ],
   "source": [
    "establish_equivalent_chain_interactions(('A','B'), identical_subunits, u)"
   ]
  },
  {
   "cell_type": "code",
   "execution_count": null,
   "metadata": {},
   "outputs": [],
   "source": [
    "sorted_distances ## The distances between priority_subunit and the other subunits\n",
    "                # dictionary keys are integer or tuples for inter-subunit data\n",
    "segids  # the list of all the segids\n",
    "sorted_all_chain_dists ## the minimum distances between the segid key and all other segments \n",
    "                # the other segments are in a nested dictionary holding their distances as values\n",
    "partner_chains # the dictionary of segid keys and lists of all other segids it makes contact with from the contact df\n",
    "identical_subunits # the dictionary containing lists of identical subunit segids\n",
    "angles # the angles between a list of contacting residues using the com as the vertex\n",
    "distances # the distances between a list of contacts "
   ]
  },
  {
   "cell_type": "code",
   "execution_count": null,
   "metadata": {},
   "outputs": [],
   "source": [
    "df_copy = df.copy()\n",
    "contacts = df.columns\n",
    "averaged_data = {}\n",
    "# Retrieve/assign these from sorted identical subunits first indices.... although we want the other identical subunits first index to neighbor the chain in\n",
    "# the first set... A needs to be next to G... This is the case for ATCASE - can just edit the chains in the PDB.... and produce a PDB for visualization along with averaging...\n",
    "# identify priority name from each set of identical subunits\n",
    "\n",
    "priority_1 = 'A'\n",
    "priority_2 = 'G'\n",
    "# can you use symmetry axes?\n",
    "while len(df_copy.columns) > 0:\n",
    "     resids = _parse_id(df_copy.columns[0])\n",
    "     # intersubunit contacts can have swapped resids\n",
    "     # so search with both regexes \n",
    "     regex1 = f\"[A-Z1-9]+:{resids['resna']}:{resids['resida']}(?!\\d)-[A-Z1-9]+:{resids['resnb']}:{resids['residb']}(?!\\d)\"\n",
    "     regex2 = f\"[A-Z1-9]+:{resids['resnb']}:{resids['residb']}(?!\\d)-[A-Z1-9]+:{resids['resna']}:{resids['resida']}(?!\\d)\"\n",
    "     regex = f\"{regex1}|{regex2}\"\n",
    "     \n",
    "     to_average = list(df.filter(regex=regex, axis=1).columns)\n",
    "     #################################################################\n",
    "     for contact in to_average:\n",
    "          if (priority_1 in _parse_id(contact).values()) or (priority_2 in _parse_id(contact).values()):\n",
    "               name = contact\n",
    "               \n",
    "     # if priority name not in to_average, create the name by finding the matching interaction involving the priority chain\n",
    "     else:\n",
    "          group1 = get_chain_group(resids['chaina'], identical_subunits)\n",
    "          group2 = get_chain_group(resids['chaina'], identical_subunits)\n",
    "          key = get_chain_tuples(group1, group2)\n",
    "\n",
    "          # Have to go back and figure out which resid belongs to which chain before making the contact name\n",
    "          # Have to make sure you're constructing the right contact name especially when it's between \n",
    "          # non-identical subunits (can't put chain A with a chain G residue.)\n",
    "          name = check_distances(key, contact, u, sorted_distances)\n",
    "          \n",
    "          \n",
    "     # average and add to averaged_data\n",
    "     # drop the to_average columns"
   ]
  }
 ],
 "metadata": {
  "kernelspec": {
   "display_name": "md",
   "language": "python",
   "name": "python3"
  },
  "language_info": {
   "codemirror_mode": {
    "name": "ipython",
    "version": 3
   },
   "file_extension": ".py",
   "mimetype": "text/x-python",
   "name": "python",
   "nbconvert_exporter": "python",
   "pygments_lexer": "ipython3",
   "version": "3.10.6"
  },
  "orig_nbformat": 4
 },
 "nbformat": 4,
 "nbformat_minor": 2
}
