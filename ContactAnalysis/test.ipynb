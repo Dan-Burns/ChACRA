{
 "cells": [
  {
   "cell_type": "code",
   "execution_count": 1,
   "metadata": {},
   "outputs": [],
   "source": [
    "import MDAnalysis as mda\n",
    "import numpy as np\n",
    "import pandas as pd\n",
    "import sys\n",
    "#sys.path.append('/Users/dburns/Library/CloudStorage/Box-Box/my_scripts')\n",
    "from ChACRA.ContactAnalysis.ContactFrequencies import *\n",
    "import os"
   ]
  },
  {
   "cell_type": "code",
   "execution_count": 3,
   "metadata": {},
   "outputs": [],
   "source": [
    "#u = mda.Universe('/Users/dburns/Library/CloudStorage/Box-Box/1_GROUP_data/Enzymes/atcase/from_pronto/1q95/1q95_minimized_nohoh.pdb')\n",
    "u = mda.Universe('../../../from_box/atcase/1q95_minimized_nohoh.pdb')\n",
    "protein = u.select_atoms('protein')\n",
    "u = mda.Merge(protein)\n",
    "universe = u.copy()\n",
    "residues = {seg.segid: seg.residues.resnames for seg in universe.segments}\n",
    "segids = list(residues.keys())\n",
    "# make a square matrix that will be filled with True values for identical subunits\n",
    "array = np.zeros((len(segids),len(segids)),dtype=np.bool_)\n",
    "# every subunit is identical with itself\n",
    "np.fill_diagonal(array,True)\n",
    "# work with it as a df\n",
    "identical_table = pd.DataFrame(array, columns=segids, index=segids)\n",
    "\n",
    "#contact_dir = '/Users/dburns/Library/CloudStorage/Box-Box/1_GROUP_data/Enzymes/atcase/from_nova/contacts/freqs'\n",
    "contact_dir = '../../../from_box/atcase/freqs'\n",
    "contact_files = [f'{contact_dir}/{file}' for file in os.listdir(contact_dir)]\n",
    "contact_files.sort()\n",
    "cont = make_contact_frequency_dictionary(contact_files)\n",
    "cont = ContactFrequencies(pd.DataFrame(cont))"
   ]
  },
  {
   "cell_type": "code",
   "execution_count": 4,
   "metadata": {},
   "outputs": [],
   "source": [
    "identical_subunits = find_identical_subunits(u)"
   ]
  },
  {
   "cell_type": "code",
   "execution_count": 6,
   "metadata": {},
   "outputs": [],
   "source": [
    "sorted_distances = get_chain_distances(identical_subunits, u)"
   ]
  },
  {
   "cell_type": "code",
   "execution_count": 7,
   "metadata": {},
   "outputs": [
    {
     "data": {
      "text/plain": [
       "{0: {('A', 'C'): 1.7065504023539435,\n",
       "  ('A', 'B'): 1.7316963647164045,\n",
       "  ('A', 'E'): 2.276290121014368,\n",
       "  ('A', 'D'): 14.695149666859432,\n",
       "  ('A', 'F'): 23.72274977485476},\n",
       " 1: {('G', 'J'): 1.7411957335158068,\n",
       "  ('G', 'I'): 27.48132477068823,\n",
       "  ('G', 'H'): 28.549628162117425,\n",
       "  ('G', 'K'): 30.40205853744378,\n",
       "  ('G', 'L'): 44.52822064542099},\n",
       " (0, 1): {('A', 'G'): 1.6783015165014643,\n",
       "  ('A', 'H'): 2.3374572559516813,\n",
       "  ('A', 'K'): 10.352570156109394,\n",
       "  ('A', 'I'): 11.368680308402194,\n",
       "  ('A', 'J'): 19.089641017069628,\n",
       "  ('A', 'L'): 27.828149816818694}}"
      ]
     },
     "execution_count": 7,
     "metadata": {},
     "output_type": "execute_result"
    }
   ],
   "source": [
    "sorted_distances"
   ]
  },
  {
   "cell_type": "code",
   "execution_count": 8,
   "metadata": {},
   "outputs": [],
   "source": [
    "sorted_all_chain_dists =  get_all_chain_dists(u)"
   ]
  },
  {
   "cell_type": "code",
   "execution_count": 9,
   "metadata": {},
   "outputs": [
    {
     "data": {
      "text/plain": [
       "{'F': {'L': 1.6868845940431783,\n",
       "  'E': 1.6997656953686828,\n",
       "  'D': 1.7251738858528087,\n",
       "  'B': 1.8194105875476971,\n",
       "  'K': 2.539416945533425,\n",
       "  'H': 11.278661873099622,\n",
       "  'J': 12.173696860953113,\n",
       "  'C': 14.49427711966249,\n",
       "  'I': 16.762685420723876,\n",
       "  'A': 23.72274977485476,\n",
       "  'G': 32.02890115513436},\n",
       " 'B': {'C': 1.6813929744436025,\n",
       "  'H': 1.6994563762386845,\n",
       "  'A': 1.7316963647164045,\n",
       "  'F': 1.8194105875476971,\n",
       "  'I': 2.405174661796874,\n",
       "  'L': 10.596713522639728,\n",
       "  'G': 11.396500598235063,\n",
       "  'E': 12.988872906635818,\n",
       "  'K': 16.547568071963777,\n",
       "  'D': 24.546360514064247,\n",
       "  'J': 30.74457695856177},\n",
       " 'A': {'G': 1.6783015165014643,\n",
       "  'C': 1.7065504023539435,\n",
       "  'B': 1.7316963647164045,\n",
       "  'E': 2.276290121014368,\n",
       "  'H': 2.3374572559516813,\n",
       "  'K': 10.352570156109394,\n",
       "  'I': 11.368680308402194,\n",
       "  'D': 14.695149666859432,\n",
       "  'J': 19.089641017069628,\n",
       "  'F': 23.72274977485476,\n",
       "  'L': 27.828149816818694},\n",
       " 'I': {'C': 1.649130675274525,\n",
       "  'L': 1.8766633250333378,\n",
       "  'B': 2.405174661796874,\n",
       "  'D': 10.766954246886625,\n",
       "  'A': 11.368680308402194,\n",
       "  'F': 16.762685420723876,\n",
       "  'G': 27.48132477068823,\n",
       "  'H': 27.931274885393638,\n",
       "  'E': 29.268393678954915,\n",
       "  'J': 29.842615040757437,\n",
       "  'K': 42.95617996998844},\n",
       " 'J': {'D': 1.6731507547147908,\n",
       "  'G': 1.7411957335158068,\n",
       "  'E': 2.6673633150264715,\n",
       "  'C': 11.460028863512493,\n",
       "  'F': 12.173696860953113,\n",
       "  'A': 19.089641017069628,\n",
       "  'K': 27.726821844301746,\n",
       "  'L': 28.017225544614632,\n",
       "  'I': 29.842615040757437,\n",
       "  'B': 30.74457695856177,\n",
       "  'H': 44.73612662988867},\n",
       " 'E': {'K': 1.6191289540514586,\n",
       "  'F': 1.6997656953686828,\n",
       "  'D': 1.7337653050411017,\n",
       "  'A': 2.276290121014368,\n",
       "  'J': 2.6673633150264715,\n",
       "  'G': 11.39885762439303,\n",
       "  'L': 12.658349037755515,\n",
       "  'B': 12.988872906635818,\n",
       "  'H': 18.11731240166011,\n",
       "  'C': 23.112452434865222,\n",
       "  'I': 29.268393678954915},\n",
       " 'C': {'I': 1.649130675274525,\n",
       "  'B': 1.6813929744436025,\n",
       "  'A': 1.7065504023539435,\n",
       "  'D': 2.4535570955604586,\n",
       "  'G': 2.4838233865839077,\n",
       "  'J': 11.460028863512493,\n",
       "  'H': 11.803342818008126,\n",
       "  'F': 14.49427711966249,\n",
       "  'L': 19.50460708068936,\n",
       "  'E': 23.112452434865222,\n",
       "  'K': 28.91113139744162},\n",
       " 'G': {'A': 1.6783015165014643,\n",
       "  'J': 1.7411957335158068,\n",
       "  'C': 2.4838233865839077,\n",
       "  'B': 11.396500598235063,\n",
       "  'E': 11.39885762439303,\n",
       "  'D': 19.970316446470544,\n",
       "  'I': 27.48132477068823,\n",
       "  'H': 28.549628162117425,\n",
       "  'K': 30.40205853744378,\n",
       "  'F': 32.02890115513436,\n",
       "  'L': 44.52822064542099},\n",
       " 'D': {'J': 1.6731507547147908,\n",
       "  'F': 1.7251738858528087,\n",
       "  'E': 1.7337653050411017,\n",
       "  'L': 2.3691580636554317,\n",
       "  'C': 2.4535570955604586,\n",
       "  'I': 10.766954246886625,\n",
       "  'K': 11.214116759189318,\n",
       "  'A': 14.695149666859432,\n",
       "  'G': 19.970316446470544,\n",
       "  'B': 24.546360514064247,\n",
       "  'H': 29.294992269048027},\n",
       " 'K': {'E': 1.6191289540514586,\n",
       "  'H': 1.7850767693519007,\n",
       "  'F': 2.539416945533425,\n",
       "  'A': 10.352570156109394,\n",
       "  'D': 11.214116759189318,\n",
       "  'B': 16.547568071963777,\n",
       "  'J': 27.726821844301746,\n",
       "  'L': 28.75195515953024,\n",
       "  'C': 28.91113139744162,\n",
       "  'G': 30.40205853744378,\n",
       "  'I': 42.95617996998844},\n",
       " 'L': {'F': 1.6868845940431783,\n",
       "  'I': 1.8766633250333378,\n",
       "  'D': 2.3691580636554317,\n",
       "  'B': 10.596713522639728,\n",
       "  'E': 12.658349037755515,\n",
       "  'C': 19.50460708068936,\n",
       "  'A': 27.828149816818694,\n",
       "  'J': 28.017225544614632,\n",
       "  'K': 28.75195515953024,\n",
       "  'H': 31.626291969776887,\n",
       "  'G': 44.52822064542099},\n",
       " 'H': {'B': 1.6994563762386845,\n",
       "  'K': 1.7850767693519007,\n",
       "  'A': 2.3374572559516813,\n",
       "  'F': 11.278661873099622,\n",
       "  'C': 11.803342818008126,\n",
       "  'E': 18.11731240166011,\n",
       "  'I': 27.931274885393638,\n",
       "  'G': 28.549628162117425,\n",
       "  'D': 29.294992269048027,\n",
       "  'L': 31.626291969776887,\n",
       "  'J': 44.73612662988867}}"
      ]
     },
     "execution_count": 9,
     "metadata": {},
     "output_type": "execute_result"
    }
   ],
   "source": [
    "sorted_all_chain_dists"
   ]
  },
  {
   "cell_type": "markdown",
   "metadata": {},
   "source": [
    "# calculate the distances between each chain and all others"
   ]
  },
  {
   "cell_type": "markdown",
   "metadata": {},
   "source": [
    "### Use contact df to determine which chains actually make contact"
   ]
  },
  {
   "cell_type": "code",
   "execution_count": 18,
   "metadata": {},
   "outputs": [],
   "source": [
    "\n",
    "df = cont.freqs\n",
    "partner_chains = get_contacting_chains(df)"
   ]
  },
  {
   "cell_type": "code",
   "execution_count": 19,
   "metadata": {},
   "outputs": [
    {
     "data": {
      "text/plain": [
       "{'B': {'A', 'B', 'C', 'E', 'F', 'H', 'I'},\n",
       " 'C': {'A', 'B', 'C', 'D', 'F', 'G', 'I', 'J'},\n",
       " 'D': {'C', 'D', 'E', 'F', 'I', 'J', 'L'},\n",
       " 'E': {'A', 'B', 'D', 'E', 'F', 'J', 'K'},\n",
       " 'A': {'A', 'B', 'C', 'E', 'G', 'H'},\n",
       " 'L': {'D', 'F', 'I', 'L'},\n",
       " 'J': {'C', 'D', 'E', 'G', 'J'},\n",
       " 'I': {'B', 'C', 'D', 'I', 'L'},\n",
       " 'G': {'A', 'C', 'G', 'J'},\n",
       " 'H': {'A', 'B', 'H', 'K'},\n",
       " 'F': {'B', 'C', 'D', 'E', 'F', 'K', 'L'},\n",
       " 'K': {'E', 'F', 'H', 'K'}}"
      ]
     },
     "execution_count": 19,
     "metadata": {},
     "output_type": "execute_result"
    }
   ],
   "source": [
    "partner_chains"
   ]
  },
  {
   "cell_type": "markdown",
   "metadata": {},
   "source": [
    "# New Averaging Loop"
   ]
  },
  {
   "cell_type": "code",
   "execution_count": 94,
   "metadata": {},
   "outputs": [],
   "source": [
    "def asymmetric_measurements(seg_combo, identical_subunits, u, all_chain_dists):\n",
    "    '''\n",
    "    This will identify all the equivalent interaction pairs as seg_combo\n",
    "    all_chain_dists is included so the best residue is used to create the best variance in the measured distances \n",
    "    \n",
    "    seg_combo : tuple(string, string)\n",
    "        The pair of chains that you want to identify all the equivalent interacting pairs for.\n",
    "        ('A','B') will find other identical chains pairs that interact with the same geometry as A and B\n",
    "    \n",
    "    identical_subunits : dictionary\n",
    "        The dictionary with integer values and lists of identical subunits.\n",
    "\n",
    "    all_chain_dists : dictionary\n",
    "        The dictionary with chain_id values and nest dictionaries giving the chain keys and the minimum distance to them as values\n",
    "    \n",
    "    Returns\n",
    "    -------\n",
    "    list of tuples\n",
    "    each tuple will be a pair of chains with equivalent interaction geometry\n",
    "    \n",
    "    \n",
    "\n",
    "    # whole protein center of mass\n",
    "    This will identify all the equivalent interaction pairs as seg_combo\n",
    "    all_chain_dists is included so the best residue is used to create the best variance in the measured distances \n",
    "    \n",
    "    seg_combo : tuple(string, string)\n",
    "        The pair of chains that you want to identify all the equivalent interacting pairs for.\n",
    "        ('A','B') will find other identical chains pairs that interact with the same geometry as A and B\n",
    "    \n",
    "    identical_subunits : dictionary\n",
    "        The dictionary with integer values and lists of identical subunits.\n",
    "\n",
    "    all_chain_dists : dictionary\n",
    "        The dictionary with chain_id values and nest dictionaries giving the chain keys and the minimum distance to them as values\n",
    "    \n",
    "    Returns\n",
    "    -------\n",
    "    list of tuples\n",
    "    each tuple will be a pair of chains with equivalent interaction geometry\n",
    "    \n",
    "    '''\n",
    "    com = u.select_atoms('protein').center_of_mass()\n",
    "    # indices of atoms corresponding to chain seg_combo[0]\n",
    "    A = np.where(u.atoms.segids == f'{seg_combo[0]}')[0]\n",
    "    # asymmetric center of mass that is some point on the periphery of seg_combo[0] near seg_combo[1]\n",
    "    # if they're not within 5 angstroms, this won't work - need to just identify closest chain, pick one at random\n",
    "    # and then establish the as_com with that\n",
    "    neighbor = find_best_asymmetric_point(u, seg_combo[0], all_chain_dists)\n",
    "    as_com = u.select_atoms(f'(around 5 chainID {neighbor}) and chainID {seg_combo[0]}').center_of_mass()\n",
    "    # the distances between all the atoms in seg_combo[0] and the asymmetric center of mass\n",
    "    dists = np.apply_along_axis(np.linalg.norm, 1,u.atoms[A].positions - as_com)\n",
    "    #find the closest res to the as_com so that this residue can be used for the reference point for other identical chains\n",
    "    resid = u.atoms[A][np.where(dists==dists.min())[0][0]].resid\n",
    "    # better to just use CA instead of this atom for distance measurements since there's more variability in sidechain positions\n",
    "    atom = u.atoms[A][np.where(dists==dists.min())[0][0]].name\n",
    "    A_pos = u.select_atoms(f'chainID {seg_combo[0]} and resnum {resid} and name CA').positions[0]\n",
    "    # center of mass of seg_combo[1]\n",
    "    B_com = u.select_atoms(f'chainID {seg_combo[1]}').center_of_mass()\n",
    "    # this identifies A's relationship to B. \n",
    "    comparison_dist = np.linalg.norm(A_pos-B_com)\n",
    "    comparison_angle = np.rad2deg(get_angle(A_pos,com,B_com))\n",
    "     \n",
    "    for key, seg_list in identical_subunits.items():\n",
    "        if seg_combo[0] in seg_list and seg_combo[1] in seg_list:\n",
    "            A_group, B_group = key, key\n",
    "        elif seg_combo[0] in seg_list and seg_combo[1] not in seg_list:\n",
    "            A_group = key\n",
    "        elif seg_combo[1] in seg_list and seg_combo[0] not in seg_list:\n",
    "            B_group = key\n",
    "\n",
    "    relationships = []\n",
    "    for seg1 in identical_subunits[A_group]:\n",
    "        distances = {}\n",
    "        distance_difs = {}\n",
    "        angle_difs = {}\n",
    "        for seg2 in identical_subunits[B_group]:\n",
    "            if seg1 != seg2:\n",
    "            \n",
    "                pos1 = u.select_atoms(f'chainID {seg1} and resnum {resid} and name CA').positions[0]\n",
    "                pos2 = u.select_atoms(f'chainID {seg2}').center_of_mass()\n",
    "                distance = np.linalg.norm(pos1-pos2)\n",
    "                distances[(seg1,seg2)] = distance\n",
    "                angle_difs[(seg1,seg2)] = np.abs(np.rad2deg(get_angle(pos1,com,pos2)) - comparison_angle)\n",
    "                distance_difs[(seg1,seg2)] = np.abs(distance-comparison_dist)\n",
    "\n",
    "        min_dist, min_angle = min(distance_difs, key=distance_difs.get), min(angle_difs, key=angle_difs.get)  \n",
    "        if min_dist != min_angle:\n",
    "            if ((distance_difs[min_dist]) + (angle_difs[min_dist])) < (distance_difs[min_angle]) + (angle_difs[min_angle]):\n",
    "                relationships.append(tuple(sorted(min_dist)))\n",
    "            else:\n",
    "                relationships.append(tuple(sorted(min_angle)))\n",
    "        else:       \n",
    "            relationships.append(tuple(sorted(min_dist)))\n",
    "    return relationships\n",
    "\n",
    "\n",
    "def get_equivalent_interactions(representative_chains, u):\n",
    "    '''\n",
    "    For each chain in representative_chains, find all other identical chains' interaction partners\n",
    "    that are equivalent to the representative_chains interactions with all the other chains in the protein.\n",
    "    For instance, chain A's interaction with a subunit D on the other side of the protein might be equivalent to\n",
    "    chain B's interaction with subunit E for a symmetric multimer.\n",
    "\n",
    "    This is useful when averaging the contact frequencies of a multimer and determining the correct naming\n",
    "    for the averaged contact record and to ensure it's depicted correctly when visualized.\n",
    "\n",
    "    Parameters\n",
    "    ----------\n",
    "    representative_chains : list of strings\n",
    "        A list with the names of the chain ids that you want to establish equivalent interactions for\n",
    "\n",
    "    '''\n",
    "\n",
    "    segids = u.segments.segids\n",
    "    all_chain_dists = get_all_chain_dists(u)\n",
    "    identical_subunits = find_identical_subunits(u)\n",
    "\n",
    "    equivalent_interactions = {}\n",
    "    for chain in [chain for chain in representative_chains]:\n",
    "        for segid in segids:\n",
    "            if segid != chain:\n",
    "                equivalent_interactions[tuple(sorted((chain,segid)))] = asymmetric_measurements((chain,segid),identical_subunits,u, all_chain_dists)\n",
    "\n",
    "    return equivalent_interactions"
   ]
  },
  {
   "cell_type": "code",
   "execution_count": null,
   "metadata": {},
   "outputs": [],
   "source": [
    "sorted_distances ## The distances between priority_subunit and the other subunits\n",
    "                # dictionary keys are integer or tuples for inter-subunit data\n",
    "segids  # the list of all the segids\n",
    "sorted_all_chain_dists ## the minimum distances between the segid key and all other segments \n",
    "                # the other segments are in a nested dictionary holding their distances as values\n",
    "partner_chains # the dictionary of segid keys and lists of all other segids it makes contact with from the contact df\n",
    "identical_subunits # the dictionary containing lists of identical subunit segids\n",
    "#angles # the angles between a list of contacting residues using the com as the vertex\n",
    "#distances # the distances between a list of contacts "
   ]
  },
  {
   "cell_type": "markdown",
   "metadata": {},
   "source": [
    "# Averageing Loop"
   ]
  },
  {
   "cell_type": "code",
   "execution_count": 126,
   "metadata": {},
   "outputs": [
    {
     "name": "stdout",
     "output_type": "stream",
     "text": [
      "31530\n",
      "31500\n"
     ]
    },
    {
     "ename": "KeyboardInterrupt",
     "evalue": "",
     "output_type": "error",
     "traceback": [
      "\u001b[0;31m---------------------------------------------------------------------------\u001b[0m",
      "\u001b[0;31mKeyboardInterrupt\u001b[0m                         Traceback (most recent call last)",
      "\u001b[1;32m/home/kanaka/python_packages/ChACRA/ContactAnalysis/test.ipynb Cell 16\u001b[0m line \u001b[0;36m8\n\u001b[1;32m     <a href='vscode-notebook-cell:/home/kanaka/python_packages/ChACRA/ContactAnalysis/test.ipynb#Y121sZmlsZQ%3D%3D?line=80'>81</a>\u001b[0m           to_average\u001b[39m.\u001b[39mremove(contact_name)\n\u001b[1;32m     <a href='vscode-notebook-cell:/home/kanaka/python_packages/ChACRA/ContactAnalysis/test.ipynb#Y121sZmlsZQ%3D%3D?line=81'>82</a>\u001b[0m \u001b[39m## TODO adjust average to account for number of subunits\u001b[39;00m\n\u001b[1;32m     <a href='vscode-notebook-cell:/home/kanaka/python_packages/ChACRA/ContactAnalysis/test.ipynb#Y121sZmlsZQ%3D%3D?line=82'>83</a>\u001b[0m \u001b[39m#if chaina == chainb:\u001b[39;00m\n\u001b[1;32m     <a href='vscode-notebook-cell:/home/kanaka/python_packages/ChACRA/ContactAnalysis/test.ipynb#Y121sZmlsZQ%3D%3D?line=83'>84</a>\u001b[0m \u001b[39m#    denominator = len(identical_subunits(get_chain_group(chain)))\u001b[39;00m\n\u001b[1;32m     <a href='vscode-notebook-cell:/home/kanaka/python_packages/ChACRA/ContactAnalysis/test.ipynb#Y121sZmlsZQ%3D%3D?line=84'>85</a>\u001b[0m \u001b[39m#else:\u001b[39;00m\n\u001b[1;32m     <a href='vscode-notebook-cell:/home/kanaka/python_packages/ChACRA/ContactAnalysis/test.ipynb#Y121sZmlsZQ%3D%3D?line=85'>86</a>\u001b[0m \u001b[39m#  denominator = len(longest_identical_chain_group participating in intersubunit contact)\u001b[39;00m\n\u001b[0;32m---> <a href='vscode-notebook-cell:/home/kanaka/python_packages/ChACRA/ContactAnalysis/test.ipynb#Y121sZmlsZQ%3D%3D?line=86'>87</a>\u001b[0m averaged_data[averaged_name] \u001b[39m=\u001b[39m df_copy[to_average]\u001b[39m.\u001b[39msum(axis\u001b[39m=\u001b[39m\u001b[39m1\u001b[39m)\u001b[39m/\u001b[39m\u001b[39m6\u001b[39m\n\u001b[1;32m     <a href='vscode-notebook-cell:/home/kanaka/python_packages/ChACRA/ContactAnalysis/test.ipynb#Y121sZmlsZQ%3D%3D?line=87'>88</a>\u001b[0m df_copy\u001b[39m.\u001b[39mdrop(to_average, axis\u001b[39m=\u001b[39m\u001b[39m1\u001b[39m, inplace\u001b[39m=\u001b[39m\u001b[39mTrue\u001b[39;00m)\n\u001b[1;32m     <a href='vscode-notebook-cell:/home/kanaka/python_packages/ChACRA/ContactAnalysis/test.ipynb#Y121sZmlsZQ%3D%3D?line=88'>89</a>\u001b[0m \u001b[39m# report length of columns or percent remaining at intervals.\u001b[39;00m\n",
      "File \u001b[0;32m~/.local/lib/python3.10/site-packages/pandas/core/generic.py:11519\u001b[0m, in \u001b[0;36mNDFrame._add_numeric_operations.<locals>.sum\u001b[0;34m(self, axis, skipna, numeric_only, min_count, **kwargs)\u001b[0m\n\u001b[1;32m  11500\u001b[0m \u001b[39m@doc\u001b[39m(  \u001b[39m# type: ignore[misc]\u001b[39;00m\n\u001b[1;32m  11501\u001b[0m     _num_doc,\n\u001b[1;32m  11502\u001b[0m     desc\u001b[39m=\u001b[39m\u001b[39m\"\u001b[39m\u001b[39mReturn the sum of the values over the requested axis.\u001b[39m\u001b[39m\\n\u001b[39;00m\u001b[39m\\n\u001b[39;00m\u001b[39m\"\u001b[39m\n\u001b[0;32m   (...)\u001b[0m\n\u001b[1;32m  11517\u001b[0m     \u001b[39m*\u001b[39m\u001b[39m*\u001b[39mkwargs,\n\u001b[1;32m  11518\u001b[0m ):\n\u001b[0;32m> 11519\u001b[0m     \u001b[39mreturn\u001b[39;00m NDFrame\u001b[39m.\u001b[39;49msum(\u001b[39mself\u001b[39;49m, axis, skipna, numeric_only, min_count, \u001b[39m*\u001b[39;49m\u001b[39m*\u001b[39;49mkwargs)\n",
      "File \u001b[0;32m~/.local/lib/python3.10/site-packages/pandas/core/generic.py:11287\u001b[0m, in \u001b[0;36mNDFrame.sum\u001b[0;34m(self, axis, skipna, numeric_only, min_count, **kwargs)\u001b[0m\n\u001b[1;32m  11279\u001b[0m \u001b[39mdef\u001b[39;00m \u001b[39msum\u001b[39m(\n\u001b[1;32m  11280\u001b[0m     \u001b[39mself\u001b[39m,\n\u001b[1;32m  11281\u001b[0m     axis: Axis \u001b[39m|\u001b[39m \u001b[39mNone\u001b[39;00m \u001b[39m=\u001b[39m \u001b[39mNone\u001b[39;00m,\n\u001b[0;32m   (...)\u001b[0m\n\u001b[1;32m  11285\u001b[0m     \u001b[39m*\u001b[39m\u001b[39m*\u001b[39mkwargs,\n\u001b[1;32m  11286\u001b[0m ):\n\u001b[0;32m> 11287\u001b[0m     \u001b[39mreturn\u001b[39;00m \u001b[39mself\u001b[39;49m\u001b[39m.\u001b[39;49m_min_count_stat_function(\n\u001b[1;32m  11288\u001b[0m         \u001b[39m\"\u001b[39;49m\u001b[39msum\u001b[39;49m\u001b[39m\"\u001b[39;49m, nanops\u001b[39m.\u001b[39;49mnansum, axis, skipna, numeric_only, min_count, \u001b[39m*\u001b[39;49m\u001b[39m*\u001b[39;49mkwargs\n\u001b[1;32m  11289\u001b[0m     )\n",
      "File \u001b[0;32m~/.local/lib/python3.10/site-packages/pandas/core/generic.py:11270\u001b[0m, in \u001b[0;36mNDFrame._min_count_stat_function\u001b[0;34m(self, name, func, axis, skipna, numeric_only, min_count, **kwargs)\u001b[0m\n\u001b[1;32m  11267\u001b[0m \u001b[39mif\u001b[39;00m axis \u001b[39mis\u001b[39;00m \u001b[39mNone\u001b[39;00m:\n\u001b[1;32m  11268\u001b[0m     axis \u001b[39m=\u001b[39m \u001b[39mself\u001b[39m\u001b[39m.\u001b[39m_stat_axis_number\n\u001b[0;32m> 11270\u001b[0m \u001b[39mreturn\u001b[39;00m \u001b[39mself\u001b[39;49m\u001b[39m.\u001b[39;49m_reduce(\n\u001b[1;32m  11271\u001b[0m     func,\n\u001b[1;32m  11272\u001b[0m     name\u001b[39m=\u001b[39;49mname,\n\u001b[1;32m  11273\u001b[0m     axis\u001b[39m=\u001b[39;49maxis,\n\u001b[1;32m  11274\u001b[0m     skipna\u001b[39m=\u001b[39;49mskipna,\n\u001b[1;32m  11275\u001b[0m     numeric_only\u001b[39m=\u001b[39;49mnumeric_only,\n\u001b[1;32m  11276\u001b[0m     min_count\u001b[39m=\u001b[39;49mmin_count,\n\u001b[1;32m  11277\u001b[0m )\n",
      "File \u001b[0;32m~/.local/lib/python3.10/site-packages/pandas/core/frame.py:10519\u001b[0m, in \u001b[0;36mDataFrame._reduce\u001b[0;34m(self, op, name, axis, skipna, numeric_only, filter_type, **kwds)\u001b[0m\n\u001b[1;32m  10515\u001b[0m     df \u001b[39m=\u001b[39m df\u001b[39m.\u001b[39mT\n\u001b[1;32m  10517\u001b[0m \u001b[39m# After possibly _get_data and transposing, we are now in the\u001b[39;00m\n\u001b[1;32m  10518\u001b[0m \u001b[39m#  simple case where we can use BlockManager.reduce\u001b[39;00m\n\u001b[0;32m> 10519\u001b[0m res \u001b[39m=\u001b[39m df\u001b[39m.\u001b[39;49m_mgr\u001b[39m.\u001b[39;49mreduce(blk_func)\n\u001b[1;32m  10520\u001b[0m out \u001b[39m=\u001b[39m df\u001b[39m.\u001b[39m_constructor(res)\u001b[39m.\u001b[39miloc[\u001b[39m0\u001b[39m]\n\u001b[1;32m  10521\u001b[0m \u001b[39mif\u001b[39;00m out_dtype \u001b[39mis\u001b[39;00m \u001b[39mnot\u001b[39;00m \u001b[39mNone\u001b[39;00m:\n",
      "File \u001b[0;32m~/.local/lib/python3.10/site-packages/pandas/core/internals/managers.py:1537\u001b[0m, in \u001b[0;36mBlockManager.reduce\u001b[0;34m(self, func)\u001b[0m\n\u001b[1;32m   1534\u001b[0m     nbs \u001b[39m=\u001b[39m blk\u001b[39m.\u001b[39mreduce(func)\n\u001b[1;32m   1535\u001b[0m     res_blocks\u001b[39m.\u001b[39mextend(nbs)\n\u001b[0;32m-> 1537\u001b[0m index \u001b[39m=\u001b[39m Index([\u001b[39mNone\u001b[39;49;00m])  \u001b[39m# placeholder\u001b[39;00m\n\u001b[1;32m   1538\u001b[0m new_mgr \u001b[39m=\u001b[39m \u001b[39mtype\u001b[39m(\u001b[39mself\u001b[39m)\u001b[39m.\u001b[39mfrom_blocks(res_blocks, [\u001b[39mself\u001b[39m\u001b[39m.\u001b[39mitems, index])\n\u001b[1;32m   1539\u001b[0m \u001b[39mreturn\u001b[39;00m new_mgr\n",
      "File \u001b[0;32m~/.local/lib/python3.10/site-packages/pandas/core/indexes/base.py:469\u001b[0m, in \u001b[0;36mIndex.__new__\u001b[0;34m(cls, data, dtype, copy, name, tupleize_cols)\u001b[0m\n\u001b[1;32m    464\u001b[0m _references \u001b[39m=\u001b[39m \u001b[39mNone\u001b[39;00m\n\u001b[1;32m    466\u001b[0m \u001b[39m# --------------------------------------------------------------------\u001b[39;00m\n\u001b[1;32m    467\u001b[0m \u001b[39m# Constructors\u001b[39;00m\n\u001b[0;32m--> 469\u001b[0m \u001b[39mdef\u001b[39;00m \u001b[39m__new__\u001b[39m(\n\u001b[1;32m    470\u001b[0m     \u001b[39mcls\u001b[39m,\n\u001b[1;32m    471\u001b[0m     data\u001b[39m=\u001b[39m\u001b[39mNone\u001b[39;00m,\n\u001b[1;32m    472\u001b[0m     dtype\u001b[39m=\u001b[39m\u001b[39mNone\u001b[39;00m,\n\u001b[1;32m    473\u001b[0m     copy: \u001b[39mbool\u001b[39m \u001b[39m=\u001b[39m \u001b[39mFalse\u001b[39;00m,\n\u001b[1;32m    474\u001b[0m     name\u001b[39m=\u001b[39m\u001b[39mNone\u001b[39;00m,\n\u001b[1;32m    475\u001b[0m     tupleize_cols: \u001b[39mbool\u001b[39m \u001b[39m=\u001b[39m \u001b[39mTrue\u001b[39;00m,\n\u001b[1;32m    476\u001b[0m ) \u001b[39m-\u001b[39m\u001b[39m>\u001b[39m Index:\n\u001b[1;32m    477\u001b[0m     \u001b[39mfrom\u001b[39;00m \u001b[39mpandas\u001b[39;00m\u001b[39m.\u001b[39;00m\u001b[39mcore\u001b[39;00m\u001b[39m.\u001b[39;00m\u001b[39mindexes\u001b[39;00m\u001b[39m.\u001b[39;00m\u001b[39mrange\u001b[39;00m \u001b[39mimport\u001b[39;00m RangeIndex\n\u001b[1;32m    479\u001b[0m     name \u001b[39m=\u001b[39m maybe_extract_name(name, data, \u001b[39mcls\u001b[39m)\n",
      "\u001b[0;31mKeyboardInterrupt\u001b[0m: "
     ]
    }
   ],
   "source": [
    "df_copy = df.copy()\n",
    "contacts = df.columns\n",
    "# hold the averaged data\n",
    "averaged_data = {}\n",
    "# select one of each type of chain to be the representative chain for average naming\n",
    "representative_chains = ['A', 'G']\n",
    "# determine what the equivalent chain interactions relative to representative chains are for all the subunits\n",
    "equivalent_interactions = get_equivalent_interactions(representative_chains,u)\n",
    "# Retrieve/assign these from sorted identical subunits first indices.... although we want the other identical subunits first index to neighbor the chain in\n",
    "# the first set... A needs to be next to G... This is the case for ATCASE - can just edit the chains in the PDB.... and produce a PDB for visualization along with averaging...\n",
    "# identify priority name from each set of identical subunits\n",
    "\n",
    "starting_length = len(df_copy.columns)\n",
    "\n",
    "while len(df_copy.columns) > 0:\n",
    "     resids = _parse_id(df_copy.columns[0])\n",
    "\n",
    "     # find all of the other contacts that involve these residue names and numbers\n",
    "     # intersubunit contacts can have swapped resids\n",
    "     # so search with both regexes \n",
    "     regex1 = f\"[A-Z1-9]+:{resids['resna']}:{resids['resida']}(?!\\d)-[A-Z1-9]+:{resids['resnb']}:{resids['residb']}(?!\\d)\"\n",
    "     regex2 = f\"[A-Z1-9]+:{resids['resnb']}:{resids['residb']}(?!\\d)-[A-Z1-9]+:{resids['resna']}:{resids['resida']}(?!\\d)\"\n",
    "     regex = f\"{regex1}|{regex2}\"\n",
    "     to_average = list(df_copy.filter(regex=regex, axis=1).columns)\n",
    "     # now filter these to ensure you're only taking ones with equivalent_interaction names\n",
    "     chaina, chainb = resids['chaina'], resids['chainb']\n",
    "\n",
    "\n",
    "\n",
    "\n",
    "     if chaina == chainb:\n",
    "          identical_pair = True\n",
    "          for key, identical_subunit_list in identical_subunits.items():\n",
    "               if chaina in identical_subunit_list:\n",
    "                    for representative_chain in representative_chains:\n",
    "                         if representative_chain in representative_chains:\n",
    "                              representative_pair = (representative_chain, representative_chain)\n",
    "                              \n",
    "     # determine which equivalent_interaction set it came from \n",
    "     else:\n",
    "          paira = (chaina,chainb)\n",
    "          #pairb = (chainb,chaina)\n",
    "          for representative_pair_name, equivalent_interaction_list in equivalent_interactions.items():\n",
    "               for pair in equivalent_interaction_list:\n",
    "                    if paira == pair: #or pairb == pair:\n",
    "                         representative_pair = representative_pair_name\n",
    "                         matching_pair = pair\n",
    "                         break\n",
    "\n",
    "     \n",
    "\n",
    "     # make is_identical_subunit function\n",
    "     # Can't deal the same with things ivolving a single subunit because not accounting for it in equivalent_interactions\n",
    "     if identical_pair:\n",
    "          averaged_name =  f\"{representative_pair[0]}:{resids['resna']}:{resids['resida']}-{representative_pair[1]}:{resids['resnb']}:{resids['residb']}\"\n",
    "          to_drop = []\n",
    "          for contact_name in to_average:\n",
    "               contact_info = _parse_id(contact_name)\n",
    "               # the chain equivalency check isn't necessary\n",
    "               # but if if the chaina variable isn't in the same identical subunit group as the current contact's chain\n",
    "               # drop it (that means it's happens to have the same resname and resnum but is happening on a different kind of subunit)\n",
    "               if (contact_info['chaina'] != contact_info['chainb']) or \\\n",
    "               (contact_info['chaina'] not in identical_subunits[get_chain_group(chaina, identical_subunits)]):\n",
    "                    to_drop.append(contact_name)\n",
    "          for contact_name in to_drop:\n",
    "               to_average.remove(contact_name)\n",
    "\n",
    "     else:\n",
    "          # if they're not identical and the first representative pair member matches is from the same identical subunit set as chaina\n",
    "          # this only works for inter-hetero-subunit contacts NOT for inter-homo-subunit\n",
    "\n",
    "          # inter-homo-subunit then need to first drop everything that involves the hetero-subunit\n",
    "          to_drop = []\n",
    "          resnums = []\n",
    "          matched_name = None\n",
    "          flipped = None\n",
    "          for contact_name in to_average:\n",
    "               contact_info = _parse_id(contact_name)\n",
    "               if (contact_info['chaina'],contact_info['chainb']) not in equivalent_interactions[representative_pair]:\n",
    "                    to_drop.append(contact_name)\n",
    "               else: \n",
    "                    # use this to identify the outlier that would give a flipped naming scheme\n",
    "                    resnums.append(contact_info['resida'])\n",
    "                    if (contact_info['resida'], contact_info['residb']) == representative_pair:\n",
    "                         matched_name = contact_name\n",
    "                    elif (contact_info['residb'], contact_info['resida']) == representative_pair:\n",
    "                         flipped = True\n",
    "          # if inter-hetero subunit     \n",
    "          if get_chain_group(representative_chain[0], identical_subunits) != (get_chain_group(representative_chain[1], identical_subunits)):\n",
    "               # and the hetero unit order matches (This shouldn't be happening in the test case)\n",
    "               if get_chain_group(representative_chain[0], identical_subunits) ==  get_chain_group(resids['chaina'], identical_subunits):\n",
    "                    averaged_name =  f\"{representative_pair[0]}:{resids['resna']}:{resids['resida']}-{representative_pair[1]}:{resids['resnb']}:{resids['residb']}\"\n",
    "               else:\n",
    "                    averaged_name =  f\"{representative_pair[0]}:{resids['resnb']}:{resids['residb']}-{representative_pair[1]}:{resids['resna']}:{resids['resida']}\"\n",
    "          # it's inter-homo subunit\n",
    "          else:\n",
    "               # this should be the only case where you have to guess.. \n",
    "               # if the contact chains are the same as the representative pair, you eliminate one situation\n",
    "               if matched_name is not None:\n",
    "                    averaged_name = matched_name\n",
    "               elif flipped is not None:\n",
    "                    averaged_name = f\"{representative_pair[0]}:{resids['resnb']}:{resids['residb']}-{representative_pair[1]}:{resids['resna']}:{resids['resida']}\"\n",
    "               else:\n",
    "                    #compare_distances between the resids (and possibly all the others to get avg dist) and then the representative_pair and flipped representative_pair\n",
    "\n",
    "\n",
    "\n",
    "          # drop the ones that don't fit the original pair\n",
    "          for contact_name in to_drop:\n",
    "               to_average.remove(contact_name)\n",
    "\n",
    "         \n",
    "          ##### Filter out ones that don't fit the equivalent_interaction of the resids[] data\n",
    "          to_drop = []\n",
    "          for contact_name in to_average:\n",
    "               contact_info = _parse_id(contact_name)\n",
    "               if (contact_info['chaina'],contact_info['chainb']) not in equivalent_interactions[representative_pair]:\n",
    "                    to_drop.append(contact_name)\n",
    "          for contact_name in to_drop:\n",
    "               to_average.remove(contact_name)\n",
    "     ## TODO adjust average to account for number of subunits\n",
    "     #if chaina == chainb:\n",
    "     #    denominator = len(identical_subunits(get_chain_group(chain)))\n",
    "     #else:\n",
    "     #  denominator = len(longest_identical_chain_group participating in intersubunit contact)\n",
    "     averaged_data[averaged_name] = df_copy[to_average].sum(axis=1)/6\n",
    "     df_copy.drop(to_average, axis=1, inplace=True)\n",
    "     # report length of columns or percent remaining at intervals.\n",
    "     if len(df_copy.columns)%10 == 0:\n",
    "          print(len(df_copy.columns))"
   ]
  },
  {
   "cell_type": "code",
   "execution_count": 127,
   "metadata": {},
   "outputs": [
    {
     "data": {
      "text/plain": [
       "[]"
      ]
     },
     "execution_count": 127,
     "metadata": {},
     "output_type": "execute_result"
    }
   ],
   "source": [
    "to_average"
   ]
  },
  {
   "cell_type": "code",
   "execution_count": 128,
   "metadata": {},
   "outputs": [
    {
     "data": {
      "text/plain": [
       "'G:LEU:46-J:ILE:42'"
      ]
     },
     "execution_count": 128,
     "metadata": {},
     "output_type": "execute_result"
    }
   ],
   "source": [
    "averaged_name"
   ]
  },
  {
   "cell_type": "code",
   "execution_count": 129,
   "metadata": {},
   "outputs": [
    {
     "data": {
      "text/plain": [
       "['G:LEU:46-J:ILE:42',\n",
       " 'H:ILE:42-K:LEU:46',\n",
       " 'H:LEU:46-K:ILE:42',\n",
       " 'G:ILE:42-J:LEU:46',\n",
       " 'I:LEU:46-L:ILE:42',\n",
       " 'I:ILE:42-L:LEU:46']"
      ]
     },
     "execution_count": 129,
     "metadata": {},
     "output_type": "execute_result"
    }
   ],
   "source": [
    "to_drop"
   ]
  },
  {
   "cell_type": "code",
   "execution_count": 130,
   "metadata": {},
   "outputs": [
    {
     "data": {
      "text/plain": [
       "'G'"
      ]
     },
     "execution_count": 130,
     "metadata": {},
     "output_type": "execute_result"
    }
   ],
   "source": [
    "representative_pair[0] "
   ]
  },
  {
   "cell_type": "code",
   "execution_count": 132,
   "metadata": {},
   "outputs": [
    {
     "data": {
      "text/plain": [
       "('G', 'J')"
      ]
     },
     "execution_count": 132,
     "metadata": {},
     "output_type": "execute_result"
    }
   ],
   "source": [
    "paira"
   ]
  },
  {
   "cell_type": "code",
   "execution_count": 133,
   "metadata": {},
   "outputs": [
    {
     "data": {
      "text/plain": [
       "('G', 'J')"
      ]
     },
     "execution_count": 133,
     "metadata": {},
     "output_type": "execute_result"
    }
   ],
   "source": [
    "representative_pair"
   ]
  },
  {
   "cell_type": "code",
   "execution_count": 134,
   "metadata": {},
   "outputs": [
    {
     "data": {
      "text/plain": [
       "{'chaina': 'G',\n",
       " 'resna': 'LEU',\n",
       " 'resida': '46',\n",
       " 'chainb': 'J',\n",
       " 'resnb': 'ILE',\n",
       " 'residb': '42'}"
      ]
     },
     "execution_count": 134,
     "metadata": {},
     "output_type": "execute_result"
    }
   ],
   "source": [
    "resids"
   ]
  },
  {
   "cell_type": "code",
   "execution_count": null,
   "metadata": {},
   "outputs": [],
   "source": []
  }
 ],
 "metadata": {
  "kernelspec": {
   "display_name": "md",
   "language": "python",
   "name": "python3"
  },
  "language_info": {
   "codemirror_mode": {
    "name": "ipython",
    "version": 3
   },
   "file_extension": ".py",
   "mimetype": "text/x-python",
   "name": "python",
   "nbconvert_exporter": "python",
   "pygments_lexer": "ipython3",
   "version": "3.10.6"
  },
  "orig_nbformat": 4
 },
 "nbformat": 4,
 "nbformat_minor": 2
}
