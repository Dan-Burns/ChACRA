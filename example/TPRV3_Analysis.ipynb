{
 "cells": [
  {
   "cell_type": "code",
   "execution_count": 1,
   "metadata": {},
   "outputs": [],
   "source": [
    "%load_ext autoreload\n",
    "%autoreload 2\n",
    "import os\n",
    "import sys\n",
    "sys.path.append('/Users/danielburns/Library/CloudStorage/Box-Box/my_scripts')\n",
    "from TSenCA.ContactAnalysis.ContactFrequencies import *\n",
    "import warnings\n",
    "warnings.filterwarnings(\"ignore\")\n",
    "import pandas as pd"
   ]
  },
  {
   "cell_type": "code",
   "execution_count": 2,
   "metadata": {},
   "outputs": [],
   "source": [
    "# getcontacts frequency files are all in here\n",
    "frequency_dir = 'data/getcontacts_frequency_files'\n",
    "# list them\n",
    "frequency_files = [f'{frequency_dir}/{file}' for file in os.listdir(frequency_dir)]\n",
    "# Now turn all the frequency data into a dictionary where each key is a contact id and\n",
    "# each value is a list of contact frequencies across all the simulated temperatures\n",
    "frequency_files.sort()\n",
    "contact_frequency_dictionary = make_contact_frequency_dictionary(frequency_files)\n",
    "# Now put this into a dataframe that the ContactFrequency class accepts\n",
    "cont = ContactFrequencies(pd.DataFrame(contact_frequency_dictionary))"
   ]
  },
  {
   "cell_type": "code",
   "execution_count": 20,
   "metadata": {},
   "outputs": [],
   "source": [
    "test = pd.read_csv(frequency_files[0],sep='\\t',usecols=[0,1,2],skiprows=[0,1],header=None,names=['res1','res2','freq'],index_col=None)"
   ]
  },
  {
   "cell_type": "code",
   "execution_count": 26,
   "metadata": {},
   "outputs": [
    {
     "data": {
      "text/plain": [
       "'C:THR:680'"
      ]
     },
     "execution_count": 26,
     "metadata": {},
     "output_type": "execute_result"
    }
   ],
   "source": [
    "test.loc[0]['res1']"
   ]
  },
  {
   "cell_type": "code",
   "execution_count": 30,
   "metadata": {},
   "outputs": [],
   "source": [
    "all_data = {}\n",
    "\n",
    "for i, frequency_file in enumerate(frequency_files):\n",
    "    test = pd.read_csv(frequency_file,sep='\\t',usecols=[0,1,2],skiprows=[0,1],header=None,names=['res1','res2','freq'],index_col=None)\n",
    "    for row in test.index:\n",
    "        res1, res2, freq = test.loc[row]['res1'], test.loc[row]['res2'], test.loc[row]['freq']\n",
    "        if f'{res1}-{res2}' not in all_data.keys():\n",
    "            all_data[f'{res1}-{res2}'] = [0 for j in range(i)]\n",
    "            all_data[f'{res1}-{res2}'].append(freq)\n",
    "        else:\n",
    "            extend_length = i - len(all_data[f'{res1}-{res2}'])-1\n",
    "            all_data[f'{res1}-{res2}'].extend([0 for j in range(extend_length)])\n",
    "            all_data[f'{res1}-{res2}'].append(freq)\n",
    "for freq_list in all_data.values():\n",
    "    if len(freq_list) != i+1:\n",
    "        extend_length = i - len(all_data[f'{res1}-{res2}'])\n",
    "        freq_list.extend(0 for j in range(extend_length))"
   ]
  },
  {
   "cell_type": "code",
   "execution_count": 29,
   "metadata": {},
   "outputs": [
    {
     "ename": "ValueError",
     "evalue": "All arrays must be of the same length",
     "output_type": "error",
     "traceback": [
      "\u001b[0;31m---------------------------------------------------------------------------\u001b[0m",
      "\u001b[0;31mValueError\u001b[0m                                Traceback (most recent call last)",
      "\u001b[1;32m/Users/dburns/Box/my_scripts/TSenCA/example/TPRV3_Analysis.ipynb Cell 6\u001b[0m in \u001b[0;36m<cell line: 1>\u001b[0;34m()\u001b[0m\n\u001b[0;32m----> <a href='vscode-notebook-cell:/Users/dburns/Box/my_scripts/TSenCA/example/TPRV3_Analysis.ipynb#X25sZmlsZQ%3D%3D?line=0'>1</a>\u001b[0m test_cont \u001b[39m=\u001b[39m pd\u001b[39m.\u001b[39;49mDataFrame(all_data)\n\u001b[1;32m      <a href='vscode-notebook-cell:/Users/dburns/Box/my_scripts/TSenCA/example/TPRV3_Analysis.ipynb#X25sZmlsZQ%3D%3D?line=1'>2</a>\u001b[0m test_cont\n",
      "File \u001b[0;32m~/opt/anaconda3/envs/mda2/lib/python3.10/site-packages/pandas/core/frame.py:636\u001b[0m, in \u001b[0;36mDataFrame.__init__\u001b[0;34m(self, data, index, columns, dtype, copy)\u001b[0m\n\u001b[1;32m    630\u001b[0m     mgr \u001b[39m=\u001b[39m \u001b[39mself\u001b[39m\u001b[39m.\u001b[39m_init_mgr(\n\u001b[1;32m    631\u001b[0m         data, axes\u001b[39m=\u001b[39m{\u001b[39m\"\u001b[39m\u001b[39mindex\u001b[39m\u001b[39m\"\u001b[39m: index, \u001b[39m\"\u001b[39m\u001b[39mcolumns\u001b[39m\u001b[39m\"\u001b[39m: columns}, dtype\u001b[39m=\u001b[39mdtype, copy\u001b[39m=\u001b[39mcopy\n\u001b[1;32m    632\u001b[0m     )\n\u001b[1;32m    634\u001b[0m \u001b[39melif\u001b[39;00m \u001b[39misinstance\u001b[39m(data, \u001b[39mdict\u001b[39m):\n\u001b[1;32m    635\u001b[0m     \u001b[39m# GH#38939 de facto copy defaults to False only in non-dict cases\u001b[39;00m\n\u001b[0;32m--> 636\u001b[0m     mgr \u001b[39m=\u001b[39m dict_to_mgr(data, index, columns, dtype\u001b[39m=\u001b[39;49mdtype, copy\u001b[39m=\u001b[39;49mcopy, typ\u001b[39m=\u001b[39;49mmanager)\n\u001b[1;32m    637\u001b[0m \u001b[39melif\u001b[39;00m \u001b[39misinstance\u001b[39m(data, ma\u001b[39m.\u001b[39mMaskedArray):\n\u001b[1;32m    638\u001b[0m     \u001b[39mimport\u001b[39;00m \u001b[39mnumpy\u001b[39;00m\u001b[39m.\u001b[39;00m\u001b[39mma\u001b[39;00m\u001b[39m.\u001b[39;00m\u001b[39mmrecords\u001b[39;00m \u001b[39mas\u001b[39;00m \u001b[39mmrecords\u001b[39;00m\n",
      "File \u001b[0;32m~/opt/anaconda3/envs/mda2/lib/python3.10/site-packages/pandas/core/internals/construction.py:502\u001b[0m, in \u001b[0;36mdict_to_mgr\u001b[0;34m(data, index, columns, dtype, typ, copy)\u001b[0m\n\u001b[1;32m    494\u001b[0m     arrays \u001b[39m=\u001b[39m [\n\u001b[1;32m    495\u001b[0m         x\n\u001b[1;32m    496\u001b[0m         \u001b[39mif\u001b[39;00m \u001b[39mnot\u001b[39;00m \u001b[39mhasattr\u001b[39m(x, \u001b[39m\"\u001b[39m\u001b[39mdtype\u001b[39m\u001b[39m\"\u001b[39m) \u001b[39mor\u001b[39;00m \u001b[39mnot\u001b[39;00m \u001b[39misinstance\u001b[39m(x\u001b[39m.\u001b[39mdtype, ExtensionDtype)\n\u001b[1;32m    497\u001b[0m         \u001b[39melse\u001b[39;00m x\u001b[39m.\u001b[39mcopy()\n\u001b[1;32m    498\u001b[0m         \u001b[39mfor\u001b[39;00m x \u001b[39min\u001b[39;00m arrays\n\u001b[1;32m    499\u001b[0m     ]\n\u001b[1;32m    500\u001b[0m     \u001b[39m# TODO: can we get rid of the dt64tz special case above?\u001b[39;00m\n\u001b[0;32m--> 502\u001b[0m \u001b[39mreturn\u001b[39;00m arrays_to_mgr(arrays, columns, index, dtype\u001b[39m=\u001b[39;49mdtype, typ\u001b[39m=\u001b[39;49mtyp, consolidate\u001b[39m=\u001b[39;49mcopy)\n",
      "File \u001b[0;32m~/opt/anaconda3/envs/mda2/lib/python3.10/site-packages/pandas/core/internals/construction.py:120\u001b[0m, in \u001b[0;36marrays_to_mgr\u001b[0;34m(arrays, columns, index, dtype, verify_integrity, typ, consolidate)\u001b[0m\n\u001b[1;32m    117\u001b[0m \u001b[39mif\u001b[39;00m verify_integrity:\n\u001b[1;32m    118\u001b[0m     \u001b[39m# figure out the index, if necessary\u001b[39;00m\n\u001b[1;32m    119\u001b[0m     \u001b[39mif\u001b[39;00m index \u001b[39mis\u001b[39;00m \u001b[39mNone\u001b[39;00m:\n\u001b[0;32m--> 120\u001b[0m         index \u001b[39m=\u001b[39m _extract_index(arrays)\n\u001b[1;32m    121\u001b[0m     \u001b[39melse\u001b[39;00m:\n\u001b[1;32m    122\u001b[0m         index \u001b[39m=\u001b[39m ensure_index(index)\n",
      "File \u001b[0;32m~/opt/anaconda3/envs/mda2/lib/python3.10/site-packages/pandas/core/internals/construction.py:674\u001b[0m, in \u001b[0;36m_extract_index\u001b[0;34m(data)\u001b[0m\n\u001b[1;32m    672\u001b[0m lengths \u001b[39m=\u001b[39m \u001b[39mlist\u001b[39m(\u001b[39mset\u001b[39m(raw_lengths))\n\u001b[1;32m    673\u001b[0m \u001b[39mif\u001b[39;00m \u001b[39mlen\u001b[39m(lengths) \u001b[39m>\u001b[39m \u001b[39m1\u001b[39m:\n\u001b[0;32m--> 674\u001b[0m     \u001b[39mraise\u001b[39;00m \u001b[39mValueError\u001b[39;00m(\u001b[39m\"\u001b[39m\u001b[39mAll arrays must be of the same length\u001b[39m\u001b[39m\"\u001b[39m)\n\u001b[1;32m    676\u001b[0m \u001b[39mif\u001b[39;00m have_dicts:\n\u001b[1;32m    677\u001b[0m     \u001b[39mraise\u001b[39;00m \u001b[39mValueError\u001b[39;00m(\n\u001b[1;32m    678\u001b[0m         \u001b[39m\"\u001b[39m\u001b[39mMixing dicts with non-Series may lead to ambiguous ordering.\u001b[39m\u001b[39m\"\u001b[39m\n\u001b[1;32m    679\u001b[0m     )\n",
      "\u001b[0;31mValueError\u001b[0m: All arrays must be of the same length"
     ]
    }
   ],
   "source": [
    "test_cont = pd.DataFrame(all_data)\n",
    "test_cont"
   ]
  },
  {
   "cell_type": "code",
   "execution_count": 3,
   "metadata": {},
   "outputs": [
    {
     "name": "stdout",
     "output_type": "stream",
     "text": [
      "got more contacts than identical subunits for contact matching A:LEU:639-B:GLY:638: ['A:GLY:638-B:LEU:639', 'B:GLY:638-C:LEU:639', 'C:GLY:638-D:LEU:639', 'A:GLY:638-D:LEU:639', 'A:GLY:638-C:LEU:639', 'B:GLY:638-D:LEU:639']\n",
      "got more contacts than identical subunits for contact matching A:ILE:674-B:ILE:674: ['B:ILE:674-C:ILE:674', 'A:ILE:674-B:ILE:674', 'A:ILE:674-D:ILE:674', 'C:ILE:674-D:ILE:674', 'A:ILE:674-C:ILE:674', 'B:ILE:674-D:ILE:674']\n",
      "got more contacts than identical subunits for contact matching A:LEU:639-B:GLY:640: ['A:LEU:639-D:GLY:640', 'A:LEU:639-C:GLY:640', 'C:LEU:639-D:GLY:640', 'A:LEU:639-B:GLY:640', 'B:LEU:639-C:GLY:640', 'B:LEU:639-D:GLY:640']\n",
      "got more contacts than identical subunits for contact matching A:GLY:640-B:ASP:641: ['A:ASP:641-B:GLY:640', 'C:ASP:641-D:GLY:640', 'B:ASP:641-C:GLY:640', 'B:ASP:641-D:GLY:640', 'A:ASP:641-D:GLY:640', 'A:ASP:641-C:GLY:640']\n",
      "got more contacts than identical subunits for contact matching A:LEU:639-B:GLY:640: ['C:GLY:640-D:LEU:639', 'A:GLY:640-B:LEU:639', 'B:GLY:640-C:LEU:639', 'A:GLY:640-D:LEU:639', 'B:GLY:640-D:LEU:639']\n",
      "got more contacts than identical subunits for contact matching A:GLY:640-B:GLY:640: ['A:GLY:640-B:GLY:640', 'B:GLY:640-C:GLY:640', 'C:GLY:640-D:GLY:640', 'A:GLY:640-D:GLY:640', 'B:GLY:640-D:GLY:640', 'A:GLY:640-C:GLY:640']\n",
      "got more contacts than identical subunits for contact matching A:GLY:638-B:GLY:638: ['A:GLY:638-B:GLY:638', 'C:GLY:638-D:GLY:638', 'B:GLY:638-C:GLY:638', 'A:GLY:638-D:GLY:638', 'A:GLY:638-C:GLY:638', 'B:GLY:638-D:GLY:638']\n",
      "got more contacts than identical subunits for contact matching A:LEU:639-B:GLY:638: ['A:LEU:639-D:GLY:638', 'B:LEU:639-C:GLY:638', 'C:LEU:639-D:GLY:638', 'A:LEU:639-B:GLY:638', 'A:LEU:639-C:GLY:638']\n",
      "got more contacts than identical subunits for contact matching A:GLY:640-B:GLY:638: ['C:GLY:638-D:GLY:640', 'A:GLY:638-B:GLY:640', 'B:GLY:638-C:GLY:640', 'A:GLY:638-D:GLY:640', 'A:GLY:638-C:GLY:640', 'B:GLY:638-D:GLY:640']\n",
      "got more contacts than identical subunits for contact matching A:ASP:641-B:ASP:641: ['A:ASP:641-D:ASP:641', 'C:ASP:641-D:ASP:641', 'B:ASP:641-C:ASP:641', 'A:ASP:641-B:ASP:641', 'B:ASP:641-D:ASP:641', 'A:ASP:641-C:ASP:641']\n",
      "got more contacts than identical subunits for contact matching A:GLY:640-B:GLY:638: ['A:GLY:640-D:GLY:638', 'C:GLY:640-D:GLY:638', 'B:GLY:640-C:GLY:638', 'A:GLY:640-B:GLY:638', 'B:GLY:640-D:GLY:638']\n",
      "got more contacts than identical subunits for contact matching A:GLU:682-B:GLU:682: ['A:GLU:682-D:GLU:682', 'B:GLU:682-C:GLU:682', 'C:GLU:682-D:GLU:682', 'A:GLU:682-B:GLU:682', 'B:GLU:682-D:GLU:682']\n",
      "got more contacts than identical subunits for contact matching A:GLU:682-B:GLU:679: ['B:GLU:679-C:GLU:682', 'C:GLU:679-D:GLU:682', 'A:GLU:679-B:GLU:682', 'B:GLU:679-D:GLU:682', 'A:GLU:679-C:GLU:682', 'A:GLU:679-D:GLU:682']\n",
      "got more contacts than identical subunits for contact matching A:GLY:678-B:GLU:679: ['A:GLU:679-B:GLY:678', 'B:GLU:679-C:GLY:678', 'C:GLU:679-D:GLY:678', 'A:GLU:679-C:GLY:678', 'A:GLU:679-D:GLY:678']\n",
      "got more contacts than identical subunits for contact matching A:GLU:679-B:GLU:679: ['A:GLU:679-C:GLU:679', 'A:GLU:679-D:GLU:679', 'B:GLU:679-D:GLU:679', 'A:GLU:679-B:GLU:679', 'B:GLU:679-C:GLU:679', 'C:GLU:679-D:GLU:679']\n",
      "got more contacts than identical subunits for contact matching A:GLY:678-B:ILE:674: ['B:ILE:674-C:GLY:678', 'A:ILE:674-B:GLY:678', 'C:ILE:674-D:GLY:678', 'A:ILE:674-C:GLY:678', 'B:ILE:674-D:GLY:678']\n"
     ]
    }
   ],
   "source": [
    "# TRPV3 is a homotetramer so you can average the contact frequencies from all 4 subunits\n",
    "# this will give better statistics on the contacts and simplify analysis\n",
    "# adding a structure file is a good idea on a multimer so that when you go to visualize it,\n",
    "# the correct contact pair is depicted.\n",
    "avg_df = cont.average_contacts(structure='data/TRPV3_structure.pdb')\n",
    "# pore contacts that occur between opposing subunits will print"
   ]
  },
  {
   "cell_type": "code",
   "execution_count": 4,
   "metadata": {},
   "outputs": [],
   "source": [
    "# make a list of the simulation temperatures and replace the index with the corresponding temperatures\n",
    "nrep = 28\n",
    "tmin = 300\n",
    "tmax = 420\n",
    "temps = []\n",
    "for i in range(nrep):\n",
    "    t=tmin*np.exp(i*np.log(tmax/tmin)/(nrep-1))\n",
    "    temps.append(int(t))\n",
    "\n",
    "tempsC = []\n",
    "for C in temps:\n",
    "    tempsC.append(round(C - 273.15))\n",
    "\n",
    "avg_df.set_axis(tempsC, axis='index',inplace=True)"
   ]
  },
  {
   "cell_type": "code",
   "execution_count": 5,
   "metadata": {},
   "outputs": [
    {
     "data": {
      "text/plain": [
       "Text(0, 0.5, 'Projection')"
      ]
     },
     "execution_count": 5,
     "metadata": {},
     "output_type": "execute_result"
    },
    {
     "data": {
      "image/png": "[encoded data removed]",
      "text/plain": [
       "<Figure size 432x288 with 1 Axes>"
      ]
     },
     "metadata": {
      "needs_background": "light"
     },
     "output_type": "display_data"
    }
   ],
   "source": [
    "# Let's do PCA on this data and see what the first several PC projections look like\n",
    "import matplotlib.pyplot as plt\n",
    "pca = PCA(n_components=.99999)\n",
    "pca.fit(avg_df)\n",
    "pcs=pca.transform(avg_df)\n",
    "fig, ax = plt.subplots()\n",
    "colors = ['red','#02a8f8','#00b730','#7400ff','#434343','magenta','#fad300']\n",
    "for i in range(len(colors)):\n",
    "    ax.plot(tempsC, -1*pcs[:,i], color=colors[i])\n",
    "ax.legend(['PC'+str(i+1) for i in range(len(colors))])\n",
    "ax.set_xlabel('Temperature (°C)')\n",
    "ax.set_ylabel('Projection')"
   ]
  },
  {
   "attachments": {},
   "cell_type": "markdown",
   "metadata": {},
   "source": [
    "PC 1 describes a melting trend where contact frequency decreases as temperature increases\n",
    "PC 2 describes a trend of increasing order with temperature"
   ]
  },
  {
   "cell_type": "code",
   "execution_count": 6,
   "metadata": {},
   "outputs": [],
   "source": [
    "# The ContactPCA class makes further analysis of the PCs easy\n",
    "pca_data = ContactPCA(avg_df)"
   ]
  },
  {
   "cell_type": "code",
   "execution_count": 14,
   "metadata": {},
   "outputs": [
    {
     "data": {
      "text/html": [
       "<div>\n",
       "<style scoped>\n",
       "    .dataframe tbody tr th:only-of-type {\n",
       "        vertical-align: middle;\n",
       "    }\n",
       "\n",
       "    .dataframe tbody tr th {\n",
       "        vertical-align: top;\n",
       "    }\n",
       "\n",
       "    .dataframe thead th {\n",
       "        text-align: right;\n",
       "    }\n",
       "</style>\n",
       "<table border=\"1\" class=\"dataframe\">\n",
       "  <thead>\n",
       "    <tr style=\"text-align: right;\">\n",
       "      <th></th>\n",
       "      <th>PC1</th>\n",
       "    </tr>\n",
       "  </thead>\n",
       "  <tbody>\n",
       "    <tr>\n",
       "      <th>A:GLU:263-A:SER:294</th>\n",
       "      <td>1.000000</td>\n",
       "    </tr>\n",
       "    <tr>\n",
       "      <th>A:ASP:293-A:TYR:260</th>\n",
       "      <td>0.982246</td>\n",
       "    </tr>\n",
       "    <tr>\n",
       "      <th>A:ASP:293-A:GLU:263</th>\n",
       "      <td>0.979721</td>\n",
       "    </tr>\n",
       "    <tr>\n",
       "      <th>A:GLN:292-A:HSD:244</th>\n",
       "      <td>0.935146</td>\n",
       "    </tr>\n",
       "    <tr>\n",
       "      <th>A:ARG:295-A:ASN:339</th>\n",
       "      <td>0.826282</td>\n",
       "    </tr>\n",
       "    <tr>\n",
       "      <th>A:ASN:297-A:ASN:338</th>\n",
       "      <td>0.820465</td>\n",
       "    </tr>\n",
       "    <tr>\n",
       "      <th>A:GLY:329-A:LEU:325</th>\n",
       "      <td>0.812708</td>\n",
       "    </tr>\n",
       "    <tr>\n",
       "      <th>A:LYS:246-A:SER:294</th>\n",
       "      <td>0.793372</td>\n",
       "    </tr>\n",
       "    <tr>\n",
       "      <th>A:GLN:292-A:GLY:296</th>\n",
       "      <td>0.782837</td>\n",
       "    </tr>\n",
       "    <tr>\n",
       "      <th>A:ASN:297-A:ASP:293</th>\n",
       "      <td>0.782689</td>\n",
       "    </tr>\n",
       "  </tbody>\n",
       "</table>\n",
       "</div>"
      ],
      "text/plain": [
       "                          PC1\n",
       "A:GLU:263-A:SER:294  1.000000\n",
       "A:ASP:293-A:TYR:260  0.982246\n",
       "A:ASP:293-A:GLU:263  0.979721\n",
       "A:GLN:292-A:HSD:244  0.935146\n",
       "A:ARG:295-A:ASN:339  0.826282\n",
       "A:ASN:297-A:ASN:338  0.820465\n",
       "A:GLY:329-A:LEU:325  0.812708\n",
       "A:LYS:246-A:SER:294  0.793372\n",
       "A:GLN:292-A:GLY:296  0.782837\n",
       "A:ASN:297-A:ASP:293  0.782689"
      ]
     },
     "execution_count": 14,
     "metadata": {},
     "output_type": "execute_result"
    }
   ],
   "source": [
    "# Now we have a ContactPCA object that makes it easy to analyze the PCs\n",
    "# If we sort the PCs according to absolute loading score value, we can see which contacts are the most temperature sensitive\n",
    "# Let's see which residue interactions have the strongest tendency to melt\n",
    "pca_data.sorted_norm_loadings(1)[['PC1']][:10]"
   ]
  },
  {
   "cell_type": "code",
   "execution_count": 15,
   "metadata": {},
   "outputs": [
    {
     "data": {
      "text/html": [
       "<div>\n",
       "<style scoped>\n",
       "    .dataframe tbody tr th:only-of-type {\n",
       "        vertical-align: middle;\n",
       "    }\n",
       "\n",
       "    .dataframe tbody tr th {\n",
       "        vertical-align: top;\n",
       "    }\n",
       "\n",
       "    .dataframe thead th {\n",
       "        text-align: right;\n",
       "    }\n",
       "</style>\n",
       "<table border=\"1\" class=\"dataframe\">\n",
       "  <thead>\n",
       "    <tr style=\"text-align: right;\">\n",
       "      <th></th>\n",
       "      <th>PC2</th>\n",
       "    </tr>\n",
       "  </thead>\n",
       "  <tbody>\n",
       "    <tr>\n",
       "      <th>A:LEU:508-A:THR:411</th>\n",
       "      <td>1.000000</td>\n",
       "    </tr>\n",
       "    <tr>\n",
       "      <th>A:GLY:638-A:GLY:640</th>\n",
       "      <td>0.881843</td>\n",
       "    </tr>\n",
       "    <tr>\n",
       "      <th>A:LEU:639-B:LEU:639</th>\n",
       "      <td>0.848288</td>\n",
       "    </tr>\n",
       "    <tr>\n",
       "      <th>A:ARG:712-A:ARG:716</th>\n",
       "      <td>0.746958</td>\n",
       "    </tr>\n",
       "    <tr>\n",
       "      <th>A:ARG:319-A:ASP:315</th>\n",
       "      <td>0.741226</td>\n",
       "    </tr>\n",
       "    <tr>\n",
       "      <th>A:HSD:471-A:SER:536</th>\n",
       "      <td>0.714558</td>\n",
       "    </tr>\n",
       "    <tr>\n",
       "      <th>A:ASP:396-A:THR:399</th>\n",
       "      <td>0.689065</td>\n",
       "    </tr>\n",
       "    <tr>\n",
       "      <th>A:PHE:522-A:TYR:564</th>\n",
       "      <td>0.681613</td>\n",
       "    </tr>\n",
       "    <tr>\n",
       "      <th>A:ASP:315-A:VAL:317</th>\n",
       "      <td>0.659613</td>\n",
       "    </tr>\n",
       "    <tr>\n",
       "      <th>A:GLY:638-B:GLY:638</th>\n",
       "      <td>0.637698</td>\n",
       "    </tr>\n",
       "  </tbody>\n",
       "</table>\n",
       "</div>"
      ],
      "text/plain": [
       "                          PC2\n",
       "A:LEU:508-A:THR:411  1.000000\n",
       "A:GLY:638-A:GLY:640  0.881843\n",
       "A:LEU:639-B:LEU:639  0.848288\n",
       "A:ARG:712-A:ARG:716  0.746958\n",
       "A:ARG:319-A:ASP:315  0.741226\n",
       "A:HSD:471-A:SER:536  0.714558\n",
       "A:ASP:396-A:THR:399  0.689065\n",
       "A:PHE:522-A:TYR:564  0.681613\n",
       "A:ASP:315-A:VAL:317  0.659613\n",
       "A:GLY:638-B:GLY:638  0.637698"
      ]
     },
     "execution_count": 15,
     "metadata": {},
     "output_type": "execute_result"
    }
   ],
   "source": [
    "# We can also look at which contacts display the interesting behavior of increasing contact frequency with increasing temperature\n",
    "pca_data.sorted_norm_loadings(2)[['PC2']][:10]"
   ]
  },
  {
   "cell_type": "code",
   "execution_count": 9,
   "metadata": {},
   "outputs": [
    {
     "data": {
      "text/plain": [
       "<AxesSubplot:>"
      ]
     },
     "execution_count": 9,
     "metadata": {},
     "output_type": "execute_result"
    },
    {
     "data": {
      "image/png": "[encoded data removed]",
      "text/plain": [
       "<Figure size 432x288 with 1 Axes>"
      ]
     },
     "metadata": {
      "needs_background": "light"
     },
     "output_type": "display_data"
    }
   ],
   "source": [
    "# We can go back to our original contact frequency data and plot these top contacts to see what their sign means\n",
    "# Let's get the top 5 contacts on PC 2\n",
    "contacts = pca_data.sorted_loadings(2)[['PC2']].index[:10]\n",
    "avg_df[contacts].plot(legend=False)"
   ]
  },
  {
   "cell_type": "code",
   "execution_count": 10,
   "metadata": {},
   "outputs": [],
   "source": [
    "# you can see that being positively correlated on PC 2 means a decreasing contact frequency through the lower temperature range\n",
    "# Of course it's way more interesting to visualize this data on the protein itself."
   ]
  },
  {
   "cell_type": "code",
   "execution_count": 11,
   "metadata": {},
   "outputs": [],
   "source": [
    "from TSenCA.ContactAnalysis.contacts_to_pymol import *\n",
    "cont_data = ContactFrequencies(avg_df)"
   ]
  },
  {
   "cell_type": "code",
   "execution_count": 12,
   "metadata": {},
   "outputs": [],
   "source": [
    "to_visualize = []\n",
    "for pc in range(1,8):\n",
    "    to_visualize.extend(list(pca_data.sorted_norm_loadings(pc)[f'PC{pc}'].index)[:18])"
   ]
  },
  {
   "cell_type": "code",
   "execution_count": 13,
   "metadata": {},
   "outputs": [],
   "source": [
    "to_pymol(to_visualize, cont_data, pca_data, 'trpv3_9985_test.pml',pc_range=(1,7))"
   ]
  },
  {
   "cell_type": "code",
   "execution_count": 16,
   "metadata": {},
   "outputs": [
    {
     "data": {
      "text/plain": [
       "A:ALA:474-A:THR:476    1.000000\n",
       "A:ASP:315-A:VAL:317    0.801471\n",
       "A:ALA:164-A:ASP:166    0.783047\n",
       "A:ARG:567-A:THR:699    0.776036\n",
       "A:ASP:586-A:THR:680    0.743606\n",
       "A:HSD:477-A:PRO:470    0.722181\n",
       "A:HSD:471-A:TYR:547    0.688989\n",
       "A:ASN:242-A:GLN:286    0.682176\n",
       "A:GLU:682-A:GLY:678    0.654357\n",
       "A:LEU:473-A:TYR:540    0.650449\n",
       "Name: PC6, dtype: float64"
      ]
     },
     "execution_count": 16,
     "metadata": {},
     "output_type": "execute_result"
    }
   ],
   "source": [
    "pca_data.sorted_norm_loadings(6)['PC6'][:10]"
   ]
  },
  {
   "cell_type": "code",
   "execution_count": null,
   "metadata": {},
   "outputs": [],
   "source": []
  }
 ],
 "metadata": {
  "kernelspec": {
   "display_name": "mda2",
   "language": "python",
   "name": "python3"
  },
  "language_info": {
   "codemirror_mode": {
    "name": "ipython",
    "version": 3
   },
   "file_extension": ".py",
   "mimetype": "text/x-python",
   "name": "python",
   "nbconvert_exporter": "python",
   "pygments_lexer": "ipython3",
   "version": "3.10.11"
  },
  "orig_nbformat": 4
 },
 "nbformat": 4,
 "nbformat_minor": 2
}
