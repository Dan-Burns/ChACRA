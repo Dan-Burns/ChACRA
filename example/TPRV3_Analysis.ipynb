{
 "cells": [
  {
   "cell_type": "code",
   "execution_count": 3,
   "metadata": {},
   "outputs": [],
   "source": [
    "import os\n",
    "from TSenCA.ContactAnalysis.ContactFrequencies import *\n",
    "%load_ext autoreload\n",
    "%autoreload 2"
   ]
  },
  {
   "cell_type": "code",
   "execution_count": 4,
   "metadata": {},
   "outputs": [],
   "source": [
    "# getcontacts frequency files are all in here\n",
    "frequency_dir = 'data/getcontacts_frequency_files'\n",
    "# list them\n",
    "frequency_files = [f'{frequency_dir}/{file}' for file in os.listdir(frequency_dir)]\n",
    "# Now turn all the frequency data into a dictionary where each key is a contact id and\n",
    "# each value is a list of contact frequencies across all the simulated temperatures\n",
    "contact_frequency_dictionary = make_contact_frequency_dictionary(frequency_files)\n",
    "# Now put this into a dataframe that the ContactFrequency class accepts\n",
    "cont = ContactFrequencies(pd.DataFrame(contact_frequency_dictionary))"
   ]
  },
  {
   "cell_type": "code",
   "execution_count": 5,
   "metadata": {},
   "outputs": [
    {
     "name": "stdout",
     "output_type": "stream",
     "text": [
      "This can take a few minutes..\n"
     ]
    },
    {
     "name": "stderr",
     "output_type": "stream",
     "text": [
      "/Users/dburns/opt/anaconda3/envs/mda2/lib/python3.10/site-packages/MDAnalysis/coordinates/PDB.py:431: UserWarning: 1 A^3 CRYST1 record, this is usually a placeholder. Unit cell dimensions will be set to None.\n",
      "  warnings.warn(\"1 A^3 CRYST1 record,\"\n"
     ]
    }
   ],
   "source": [
    "# TRPV3 is a homotetramer so you can average the contact frequencies from all 4 subunits\n",
    "# this will give better statistics on the contacts and simplify analysis\n",
    "# adding a structure file is a good idea on a multimer so that when you go to visualize it,\n",
    "# the correct contact pair is depicted.\n",
    "avg_df = cont.average_contacts(structure='data/TRPV3_structure.pdb')"
   ]
  },
  {
   "cell_type": "code",
   "execution_count": 7,
   "metadata": {},
   "outputs": [],
   "source": [
    "# make a list of the simulation temperatures and replace the index with the corresponding temperatures\n",
    "nrep = 28\n",
    "tmin = 300\n",
    "tmax = 420\n",
    "temps = []\n",
    "for i in range(nrep):\n",
    "    t=tmin*np.exp(i*np.log(tmax/tmin)/(nrep-1))\n",
    "    temps.append(int(t))\n",
    "\n",
    "tempsC = []\n",
    "for C in temps:\n",
    "    tempsC.append(round(C - 273.15))\n",
    "\n",
    "avg_df.set_axis(tempsC, axis='index',inplace=True)"
   ]
  },
  {
   "cell_type": "code",
   "execution_count": 22,
   "metadata": {},
   "outputs": [
    {
     "data": {
      "text/plain": [
       "Text(0, 0.5, 'Projection')"
      ]
     },
     "execution_count": 22,
     "metadata": {},
     "output_type": "execute_result"
    },
    {
     "data": {
      "image/png": "[encoded data removed]",
      "text/plain": [
       "<Figure size 432x288 with 1 Axes>"
      ]
     },
     "metadata": {
      "needs_background": "light"
     },
     "output_type": "display_data"
    }
   ],
   "source": [
    "# Let's do PCA on this data and see what the first several PC projections look like\n",
    "import matplotlib.pyplot as plt\n",
    "pca = PCA(n_components=.99999)\n",
    "pca.fit(avg_df)\n",
    "pcs=pca.transform(avg_df)\n",
    "fig, ax = plt.subplots()\n",
    "colors = ['red','#02a8f8','#00bf36','#8000ff']\n",
    "for i in range(len(colors)):\n",
    "    ax.plot(tempsC, -1*pcs[:,i], color=colors[i])\n",
    "ax.legend(['PC'+str(i+1) for i in range(len(colors))])\n",
    "ax.set_xlabel('Temperature (°C)')\n",
    "ax.set_ylabel('Projection')"
   ]
  },
  {
   "attachments": {},
   "cell_type": "markdown",
   "metadata": {},
   "source": [
    "PC 1 describes a melting trend where contact frequency decreases as temperature increases\n",
    "PC 2 describes a trend of increasing order with temperature"
   ]
  },
  {
   "cell_type": "code",
   "execution_count": 9,
   "metadata": {},
   "outputs": [],
   "source": [
    "# The ContactPCA class makes further analysis of the PCs easy\n",
    "pca_df = ContactPCA(avg_df)"
   ]
  },
  {
   "cell_type": "code",
   "execution_count": 12,
   "metadata": {},
   "outputs": [
    {
     "data": {
      "text/html": [
       "<div>\n",
       "<style scoped>\n",
       "    .dataframe tbody tr th:only-of-type {\n",
       "        vertical-align: middle;\n",
       "    }\n",
       "\n",
       "    .dataframe tbody tr th {\n",
       "        vertical-align: top;\n",
       "    }\n",
       "\n",
       "    .dataframe thead th {\n",
       "        text-align: right;\n",
       "    }\n",
       "</style>\n",
       "<table border=\"1\" class=\"dataframe\">\n",
       "  <thead>\n",
       "    <tr style=\"text-align: right;\">\n",
       "      <th></th>\n",
       "      <th>PC1</th>\n",
       "    </tr>\n",
       "  </thead>\n",
       "  <tbody>\n",
       "    <tr>\n",
       "      <th>A:GLU:263-A:SER:294</th>\n",
       "      <td>1.000000</td>\n",
       "    </tr>\n",
       "    <tr>\n",
       "      <th>A:ASP:293-A:TYR:260</th>\n",
       "      <td>0.982109</td>\n",
       "    </tr>\n",
       "    <tr>\n",
       "      <th>A:ASP:293-A:GLU:263</th>\n",
       "      <td>0.979657</td>\n",
       "    </tr>\n",
       "    <tr>\n",
       "      <th>A:GLN:292-A:HSD:244</th>\n",
       "      <td>0.934201</td>\n",
       "    </tr>\n",
       "    <tr>\n",
       "      <th>A:ARG:295-A:ASN:339</th>\n",
       "      <td>0.826522</td>\n",
       "    </tr>\n",
       "    <tr>\n",
       "      <th>...</th>\n",
       "      <td>...</td>\n",
       "    </tr>\n",
       "    <tr>\n",
       "      <th>A:GLY:502-A:PHE:524</th>\n",
       "      <td>0.000000</td>\n",
       "    </tr>\n",
       "    <tr>\n",
       "      <th>A:LYS:246-B:ASP:752</th>\n",
       "      <td>0.000000</td>\n",
       "    </tr>\n",
       "    <tr>\n",
       "      <th>A:ARG:188-A:GLN:227</th>\n",
       "      <td>0.000000</td>\n",
       "    </tr>\n",
       "    <tr>\n",
       "      <th>A:LYS:368-A:MET:336</th>\n",
       "      <td>0.000000</td>\n",
       "    </tr>\n",
       "    <tr>\n",
       "      <th>A:TYR:254-B:LYS:738</th>\n",
       "      <td>0.000000</td>\n",
       "    </tr>\n",
       "  </tbody>\n",
       "</table>\n",
       "<p>11095 rows × 1 columns</p>\n",
       "</div>"
      ],
      "text/plain": [
       "                          PC1\n",
       "A:GLU:263-A:SER:294  1.000000\n",
       "A:ASP:293-A:TYR:260  0.982109\n",
       "A:ASP:293-A:GLU:263  0.979657\n",
       "A:GLN:292-A:HSD:244  0.934201\n",
       "A:ARG:295-A:ASN:339  0.826522\n",
       "...                       ...\n",
       "A:GLY:502-A:PHE:524  0.000000\n",
       "A:LYS:246-B:ASP:752  0.000000\n",
       "A:ARG:188-A:GLN:227  0.000000\n",
       "A:LYS:368-A:MET:336  0.000000\n",
       "A:TYR:254-B:LYS:738  0.000000\n",
       "\n",
       "[11095 rows x 1 columns]"
      ]
     },
     "execution_count": 12,
     "metadata": {},
     "output_type": "execute_result"
    }
   ],
   "source": [
    "# Now we have a ContactPCA object that makes it easy to analyze the PCs\n",
    "# If we sort the PCs according to absolute loading score value, we can see which contacts are the most temperature sensitive\n",
    "# Let's see which residue interactions have the strongest tendency to melt\n",
    "pca_df.sorted_norm_loadings(1)[['PC1']]"
   ]
  },
  {
   "cell_type": "code",
   "execution_count": 24,
   "metadata": {},
   "outputs": [
    {
     "data": {
      "text/html": [
       "<div>\n",
       "<style scoped>\n",
       "    .dataframe tbody tr th:only-of-type {\n",
       "        vertical-align: middle;\n",
       "    }\n",
       "\n",
       "    .dataframe tbody tr th {\n",
       "        vertical-align: top;\n",
       "    }\n",
       "\n",
       "    .dataframe thead th {\n",
       "        text-align: right;\n",
       "    }\n",
       "</style>\n",
       "<table border=\"1\" class=\"dataframe\">\n",
       "  <thead>\n",
       "    <tr style=\"text-align: right;\">\n",
       "      <th></th>\n",
       "      <th>PC2</th>\n",
       "    </tr>\n",
       "  </thead>\n",
       "  <tbody>\n",
       "    <tr>\n",
       "      <th>A:LEU:508-A:THR:411</th>\n",
       "      <td>1.000000</td>\n",
       "    </tr>\n",
       "    <tr>\n",
       "      <th>A:TYR:213-B:PRO:753</th>\n",
       "      <td>0.903384</td>\n",
       "    </tr>\n",
       "    <tr>\n",
       "      <th>A:GLY:638-A:GLY:640</th>\n",
       "      <td>0.874634</td>\n",
       "    </tr>\n",
       "    <tr>\n",
       "      <th>A:LEU:639-B:LEU:639</th>\n",
       "      <td>0.845681</td>\n",
       "    </tr>\n",
       "    <tr>\n",
       "      <th>A:LEU:635-B:ILE:637</th>\n",
       "      <td>0.788465</td>\n",
       "    </tr>\n",
       "    <tr>\n",
       "      <th>...</th>\n",
       "      <td>...</td>\n",
       "    </tr>\n",
       "    <tr>\n",
       "      <th>A:ILE:583-A:TYR:575</th>\n",
       "      <td>0.000000</td>\n",
       "    </tr>\n",
       "    <tr>\n",
       "      <th>A:ASP:288-A:GLU:334</th>\n",
       "      <td>0.000000</td>\n",
       "    </tr>\n",
       "    <tr>\n",
       "      <th>A:GLU:367-B:PRO:181</th>\n",
       "      <td>0.000000</td>\n",
       "    </tr>\n",
       "    <tr>\n",
       "      <th>A:GLU:332-A:THR:399</th>\n",
       "      <td>0.000000</td>\n",
       "    </tr>\n",
       "    <tr>\n",
       "      <th>A:TYR:254-B:LYS:738</th>\n",
       "      <td>0.000000</td>\n",
       "    </tr>\n",
       "  </tbody>\n",
       "</table>\n",
       "<p>11095 rows × 1 columns</p>\n",
       "</div>"
      ],
      "text/plain": [
       "                          PC2\n",
       "A:LEU:508-A:THR:411  1.000000\n",
       "A:TYR:213-B:PRO:753  0.903384\n",
       "A:GLY:638-A:GLY:640  0.874634\n",
       "A:LEU:639-B:LEU:639  0.845681\n",
       "A:LEU:635-B:ILE:637  0.788465\n",
       "...                       ...\n",
       "A:ILE:583-A:TYR:575  0.000000\n",
       "A:ASP:288-A:GLU:334  0.000000\n",
       "A:GLU:367-B:PRO:181  0.000000\n",
       "A:GLU:332-A:THR:399  0.000000\n",
       "A:TYR:254-B:LYS:738  0.000000\n",
       "\n",
       "[11095 rows x 1 columns]"
      ]
     },
     "execution_count": 24,
     "metadata": {},
     "output_type": "execute_result"
    }
   ],
   "source": [
    "# We can also look at which contacts display the interesting behavior of increasing contact frequency with increasing temperature\n",
    "pca_df.sorted_norm_loadings(2)[['PC2']]"
   ]
  },
  {
   "cell_type": "code",
   "execution_count": 25,
   "metadata": {},
   "outputs": [
    {
     "data": {
      "text/html": [
       "<div>\n",
       "<style scoped>\n",
       "    .dataframe tbody tr th:only-of-type {\n",
       "        vertical-align: middle;\n",
       "    }\n",
       "\n",
       "    .dataframe tbody tr th {\n",
       "        vertical-align: top;\n",
       "    }\n",
       "\n",
       "    .dataframe thead th {\n",
       "        text-align: right;\n",
       "    }\n",
       "</style>\n",
       "<table border=\"1\" class=\"dataframe\">\n",
       "  <thead>\n",
       "    <tr style=\"text-align: right;\">\n",
       "      <th></th>\n",
       "      <th>PC2</th>\n",
       "    </tr>\n",
       "  </thead>\n",
       "  <tbody>\n",
       "    <tr>\n",
       "      <th>A:LEU:508-A:THR:411</th>\n",
       "      <td>-0.102860</td>\n",
       "    </tr>\n",
       "    <tr>\n",
       "      <th>A:TYR:213-B:PRO:753</th>\n",
       "      <td>0.092922</td>\n",
       "    </tr>\n",
       "    <tr>\n",
       "      <th>A:GLY:638-A:GLY:640</th>\n",
       "      <td>0.089965</td>\n",
       "    </tr>\n",
       "    <tr>\n",
       "      <th>A:LEU:639-B:LEU:639</th>\n",
       "      <td>-0.086987</td>\n",
       "    </tr>\n",
       "    <tr>\n",
       "      <th>A:LEU:635-B:ILE:637</th>\n",
       "      <td>-0.081102</td>\n",
       "    </tr>\n",
       "    <tr>\n",
       "      <th>...</th>\n",
       "      <td>...</td>\n",
       "    </tr>\n",
       "    <tr>\n",
       "      <th>A:ILE:583-A:TYR:575</th>\n",
       "      <td>-0.000000</td>\n",
       "    </tr>\n",
       "    <tr>\n",
       "      <th>A:ASP:288-A:GLU:334</th>\n",
       "      <td>-0.000000</td>\n",
       "    </tr>\n",
       "    <tr>\n",
       "      <th>A:GLU:367-B:PRO:181</th>\n",
       "      <td>-0.000000</td>\n",
       "    </tr>\n",
       "    <tr>\n",
       "      <th>A:GLU:332-A:THR:399</th>\n",
       "      <td>-0.000000</td>\n",
       "    </tr>\n",
       "    <tr>\n",
       "      <th>A:TYR:254-B:LYS:738</th>\n",
       "      <td>-0.000000</td>\n",
       "    </tr>\n",
       "  </tbody>\n",
       "</table>\n",
       "<p>11095 rows × 1 columns</p>\n",
       "</div>"
      ],
      "text/plain": [
       "                          PC2\n",
       "A:LEU:508-A:THR:411 -0.102860\n",
       "A:TYR:213-B:PRO:753  0.092922\n",
       "A:GLY:638-A:GLY:640  0.089965\n",
       "A:LEU:639-B:LEU:639 -0.086987\n",
       "A:LEU:635-B:ILE:637 -0.081102\n",
       "...                       ...\n",
       "A:ILE:583-A:TYR:575 -0.000000\n",
       "A:ASP:288-A:GLU:334 -0.000000\n",
       "A:GLU:367-B:PRO:181 -0.000000\n",
       "A:GLU:332-A:THR:399 -0.000000\n",
       "A:TYR:254-B:LYS:738 -0.000000\n",
       "\n",
       "[11095 rows x 1 columns]"
      ]
     },
     "execution_count": 25,
     "metadata": {},
     "output_type": "execute_result"
    }
   ],
   "source": [
    "# Looking at the normalized loading scores doesn't discriminate between which residues are positively or negatively correlated on the PC\n",
    "# you can look at these by using pca_df.sorted_loadings() \n",
    "pca_df.sorted_loadings(2)[['PC2']]\n",
    "# Here, they're still sorted by absolute value"
   ]
  },
  {
   "cell_type": "code",
   "execution_count": 26,
   "metadata": {},
   "outputs": [
    {
     "data": {
      "text/plain": [
       "<AxesSubplot:>"
      ]
     },
     "execution_count": 26,
     "metadata": {},
     "output_type": "execute_result"
    },
    {
     "data": {
      "image/png": "[encoded data removed]",
      "text/plain": [
       "<Figure size 432x288 with 1 Axes>"
      ]
     },
     "metadata": {
      "needs_background": "light"
     },
     "output_type": "display_data"
    }
   ],
   "source": [
    "# We can go back to our original contact frequency data and plot these top contacts to see what their sign means\n",
    "# Let's get the top 5 contacts on PC 2\n",
    "contacts = pca_df.sorted_loadings(2)[['PC2']].index[:5]\n",
    "avg_df[contacts].plot()"
   ]
  },
  {
   "cell_type": "code",
   "execution_count": null,
   "metadata": {},
   "outputs": [],
   "source": [
    "# you can see that being positively correlated on PC 2 means a decreasing contact frequency through the lower temperature range\n",
    "# Of course it's way more interesting to visualize this data on the protein itself."
   ]
  }
 ],
 "metadata": {
  "kernelspec": {
   "display_name": "mda2",
   "language": "python",
   "name": "python3"
  },
  "language_info": {
   "codemirror_mode": {
    "name": "ipython",
    "version": 3
   },
   "file_extension": ".py",
   "mimetype": "text/x-python",
   "name": "python",
   "nbconvert_exporter": "python",
   "pygments_lexer": "ipython3",
   "version": "3.10.5"
  },
  "orig_nbformat": 4
 },
 "nbformat": 4,
 "nbformat_minor": 2
}
